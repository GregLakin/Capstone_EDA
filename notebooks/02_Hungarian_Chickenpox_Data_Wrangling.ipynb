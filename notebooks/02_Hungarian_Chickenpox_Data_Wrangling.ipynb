{
 "cells": [
  {
   "cell_type": "markdown",
   "id": "915dabfd",
   "metadata": {},
   "source": [
    "# 02 Hungarian Chickenpox Data Wrangling\n",
    "***"
   ]
  },
  {
   "cell_type": "markdown",
   "id": "389677e6",
   "metadata": {},
   "source": [
    "## 02.1 Contents<a id='02.1_Contents'></a>\n",
    "* [02 Hungarian Chickenpox Data Wrangling](#02_Hungarian_Chickenpox_Data_Wrangling)\n",
    "  * [02.1 Contents](#02.1_Contents)\n",
    "  * [02.2 Introduction](#02.2_Introduction)  \n",
    "  * [02.3 Data Sources](#02.3_Data_Sources)  \n",
    "  * [02.4 Import Python Modules](#02.4_Import_Python_Modules) \n",
    "  * [02.5 Import Data](#02.5_Import_Data)\n",
    "       * [02.5.1 Import Chickenpox Cases by County](#02.5.1_Import_Chickenpox_Cases_by_County)\n",
    "           * [02.5.1.1 Import Raw Data](#02.5.1.1_Import_Raw_Data)\n",
    "           * [02.5.1.1 Import Raw Data](#02.5.1.1_Import_Raw_Data)         \n",
    "           * [02.5.1.2 Review Raw Data](#02.5.1.2_Review_Raw_Data)\n",
    "               * [02.5.1.2.1 Example](#02.5.1.2.1_Example)\n",
    "               * [02.5.1.2.2 Structure](#02.5.1.2.2_Structure)  \n",
    "               * [02.5.1.2.3 Quick Statistics](#02.5.1.2.3_Quick_Statistics)\n",
    "               * [02.5.1.2.4 Cumulative Case Counts by County](#02.5.1.2.4_Cumulative_Case_Counts_by_County) \n",
    "           * [02.5.1.3 Reshape Raw Data](#02.5.1.2_Reshape_Raw_Data)\n",
    "               * [02.5.1.3.1 Example](#02.5.1.3.1_Example)\n",
    "               * [02.5.1.3.2 Structure](#02.5.1.3.2_Structure)             \n",
    "       * [02.5.2 Import Adjacent County to County](#02.5.1_Import_Adjacent_County_to_County)       \n",
    "           * [02.5.2.1 Import Raw Data](#02.5.2.1_Import_Raw_Data)\n",
    "           * [02.5.2.2 Review Raw Data](#02.5.2.2_Review_Raw_Data)\n",
    "               * [02.5.2.2.1 Example](#02.5.2.2.1_Example)\n",
    "               * [02.5.2.2.2 Structure](#02.5.2.2.2_Structure)            \n",
    "           * [02.5.2.3 Reshape Raw Data](#02.5.2.2_Reshape_Raw_Data)\n",
    "       * [02.5.3 Import Statistical Data by County](#02.5.3_Import_Statistical_Data_by_County)\n",
    "           * [02.5.3.1 Import Raw Data](#02.5.3.1_Import_Raw_Data)\n",
    "           * [02.5.3.2 Review Raw Data](#02.5.3.2_Review_Raw_Data) \n",
    "               * [02.5.3.2.1 Example](#02.5.3.2.1_Example)\n",
    "               * [02.5.3.2.2 Structure](#02.5.3.2.2_Structure)\n",
    "               * [02.5.3.2.3 Quick Statistics](#02.5.3.2.3_Quick_Statistics)\n",
    "           * [02.5.3.3 Reshape Raw Data](#02.5.3.3_Reshape_Raw_Data)\n",
    "               * [02.5.3.3.1 Example](#02.5.3.3.1_Example)\n",
    "               * [02.5.3.3.2 Structure](#02.5.1.3.2_Structure)\n",
    "               * [02.5.3.3.3 Feature Distributions](#02.5.1.3.3_Feature_Distributions)\n",
    "* [02.6 Merge Files](#02.6_Merge_Files)\n",
    "   * [02.6.1 Weekly Cases by County Merged with Statistics](#02.6.1_Weekly_Cases_by_County_Merged_with_Statistics)\n",
    "       * [02.6.1.1 Example](#02.6.1.1_Example)\n",
    "       * [02.6.1.2 Structure](#02.6.1.2_Structure)\n",
    "   * [02.6.2 Annual Cases by County Merged with Statistics](#02.6.2_Annual_Cases_by_County_Merged_with_Statistics)\n",
    "       * [02.6.2.1 Example](#02.6.2.1_Example)\n",
    "       * [02.6.2.2 Structure](#02.6.2.2_Structure)\n",
    "   * [02.6.3 Adjacent Counties Merged with Data](#02.6.3_Adjacent_Counties_Merged_with_Data)\n",
    "       * [02.6.3.1 Example](#02.6.3.1_Example)\n",
    "       * [02.6.3.2 Structure](#02.6.3.2_Structure)\n",
    "* [02.7 Save Files](#02.7_Save_Files)\n",
    "* [02.8 Summary](#02.8_Summary)"
   ]
  },
  {
   "cell_type": "markdown",
   "id": "94109568",
   "metadata": {},
   "source": [
    "## 02.2 Introduction<a id='02.2_Introduction'></a>"
   ]
  },
  {
   "cell_type": "markdown",
   "id": "cc310eb0",
   "metadata": {},
   "source": [
    "The purpose for this project is to asertain if an outbreak of chicken pox will occur in a georaphically decernable manner across the 20 counties of Hungary provided demographic data obtained from the Hungarian Central Statistical Office for each county."
   ]
  },
  {
   "cell_type": "markdown",
   "id": "ceb0afdd",
   "metadata": {},
   "source": [
    "## 02.3 Data Sources<a id='02.3_Data_Sources'></a>"
   ]
  },
  {
   "cell_type": "markdown",
   "id": "bcd9a35b",
   "metadata": {},
   "source": [
    "\n",
    "Chickenpox Cases in Hungary: a Benchmark Dataset for Spatiotemporal Signal Processing with Graph Neural Networks\n",
    "Benedek Rozemberczki, Paul Scherer, Oliver Kiss, Rik Sarkar, Tamas Ferenci\n",
    "https://archive.ics.uci.edu/ml/datasets/Hungarian+Chickenpox+Cases\n",
    "\n",
    "Hungarian Central Statistical Office\n",
    "Dissemination Database Statistics by Subject:Population and Social Statistics\n",
    "https://statinfo.ksh.hu/Statinfo/themeSelector.jsp?&lang=en\n"
   ]
  },
  {
   "cell_type": "markdown",
   "id": "a86f893a",
   "metadata": {},
   "source": [
    "## 02.4 Import Python Modules<a id='02.4_Import_Python_Modules'></a>"
   ]
  },
  {
   "cell_type": "code",
   "execution_count": 1,
   "id": "3f564fe1",
   "metadata": {},
   "outputs": [],
   "source": [
    "import pandas as pd\n",
    "import numpy as np\n",
    "from datetime import datetime\n",
    "import matplotlib.pyplot as plt\n",
    "import seaborn as sns\n",
    "import os\n",
    "#from library.sb_utils import save_file not in anaconda\n",
    "#import pandas_profiling  removed due to memory consumption\n",
    "#from pandas_profiling.utils.cache import cache_file   removed due to memory consumption"
   ]
  },
  {
   "cell_type": "markdown",
   "id": "f050620e",
   "metadata": {},
   "source": [
    "## 02.5 Import Data<a id='02.5_Import_Data'></a>"
   ]
  },
  {
   "cell_type": "markdown",
   "id": "1ace1c30",
   "metadata": {},
   "source": [
    "### 02.5.1 Import Chickenpox Cases by County<a id='02.5.1_Import_Chickenpox_Cases_by_County'></a>"
   ]
  },
  {
   "cell_type": "markdown",
   "id": "bf69eb7c",
   "metadata": {},
   "source": [
    "The file is a ten year table of chickenpox cases by week and by county for the period 2005 -2014. 20 counties by 522 weekly counts.  10,440 data points in total."
   ]
  },
  {
   "cell_type": "markdown",
   "id": "2669be83",
   "metadata": {},
   "source": [
    "#### 02.5.1.1 Import Raw Data<a id='02.5.1.1_Import_Raw_Data'></a>"
   ]
  },
  {
   "cell_type": "code",
   "execution_count": 2,
   "id": "55990dd3",
   "metadata": {},
   "outputs": [],
   "source": [
    "# Assign filename: file\n",
    "#project location on local\n",
    "Project_Local ='C:/Users/Greki/Capstone_Two/'\n",
    "File_Location='data/raw/hungary_chickenpox.csv'\n",
    "file =Project_Local+File_Location\n",
    "# Load chickenpox data\n",
    "df1 = pd.read_csv(file)\n"
   ]
  },
  {
   "cell_type": "markdown",
   "id": "f2d9a5ce",
   "metadata": {},
   "source": [
    "#### 02.5.1.2 Review Raw Data<a id='02.5.1.2_Review_Raw_Data'></a>"
   ]
  },
  {
   "cell_type": "markdown",
   "id": "816f87a3",
   "metadata": {},
   "source": [
    "##### 02.5.1.2.1 Example<a id='02.5.1.2.1_Example'></a>"
   ]
  },
  {
   "cell_type": "code",
   "execution_count": 3,
   "id": "d5253c1d",
   "metadata": {
    "scrolled": true
   },
   "outputs": [
    {
     "name": "stdout",
     "output_type": "stream",
     "text": [
      "         Date  BUDAPEST  BARANYA  BACS  BEKES  BORSOD  CSONGRAD  FEJER  GYOR  \\\n",
      "0    3/1/2005       168       79    30    173     169        42    136   120   \n",
      "1   10/1/2005       157       60    30     92     200        53     51    70   \n",
      "2  17/01/2005        96       44    31     86      93        30     93    84   \n",
      "3  24/01/2005       163       49    43    126      46        39     52   114   \n",
      "4  31/01/2005       122       78    53     87     103        34     95   131   \n",
      "\n",
      "   HAJDU  ...  JASZ  KOMAROM  NOGRAD  PEST  SOMOGY  SZABOLCS  TOLNA  VAS  \\\n",
      "0    162  ...   130       57       2   178      66        64     11   29   \n",
      "1     84  ...    80       50      29   141      48        29     58   53   \n",
      "2    191  ...    64       46       4   157      33        33     24   18   \n",
      "3    107  ...    63       54      14   107      66        50     25   21   \n",
      "4    172  ...    61       49      11   124      63        56      7   47   \n",
      "\n",
      "   VESZPREM  ZALA  \n",
      "0        87    68  \n",
      "1        68    26  \n",
      "2        62    44  \n",
      "3        43    31  \n",
      "4        85    60  \n",
      "\n",
      "[5 rows x 21 columns]\n"
     ]
    }
   ],
   "source": [
    "print(df1.head())"
   ]
  },
  {
   "cell_type": "markdown",
   "id": "291eacab",
   "metadata": {},
   "source": [
    "##### 02.5.1.2.2 Structure<a id='02.5.1.2.2_Structure'></a>"
   ]
  },
  {
   "cell_type": "code",
   "execution_count": 4,
   "id": "321d7f3f",
   "metadata": {
    "scrolled": true
   },
   "outputs": [
    {
     "name": "stdout",
     "output_type": "stream",
     "text": [
      "<class 'pandas.core.frame.DataFrame'>\n",
      "RangeIndex: 522 entries, 0 to 521\n",
      "Data columns (total 21 columns):\n",
      " #   Column    Non-Null Count  Dtype \n",
      "---  ------    --------------  ----- \n",
      " 0   Date      522 non-null    object\n",
      " 1   BUDAPEST  522 non-null    int64 \n",
      " 2   BARANYA   522 non-null    int64 \n",
      " 3   BACS      522 non-null    int64 \n",
      " 4   BEKES     522 non-null    int64 \n",
      " 5   BORSOD    522 non-null    int64 \n",
      " 6   CSONGRAD  522 non-null    int64 \n",
      " 7   FEJER     522 non-null    int64 \n",
      " 8   GYOR      522 non-null    int64 \n",
      " 9   HAJDU     522 non-null    int64 \n",
      " 10  HEVES     522 non-null    int64 \n",
      " 11  JASZ      522 non-null    int64 \n",
      " 12  KOMAROM   522 non-null    int64 \n",
      " 13  NOGRAD    522 non-null    int64 \n",
      " 14  PEST      522 non-null    int64 \n",
      " 15  SOMOGY    522 non-null    int64 \n",
      " 16  SZABOLCS  522 non-null    int64 \n",
      " 17  TOLNA     522 non-null    int64 \n",
      " 18  VAS       522 non-null    int64 \n",
      " 19  VESZPREM  522 non-null    int64 \n",
      " 20  ZALA      522 non-null    int64 \n",
      "dtypes: int64(20), object(1)\n",
      "memory usage: 85.8+ KB\n",
      "None\n"
     ]
    }
   ],
   "source": [
    "print(df1.info())"
   ]
  },
  {
   "cell_type": "code",
   "execution_count": 5,
   "id": "75546f3d",
   "metadata": {},
   "outputs": [],
   "source": [
    "#datatype for Date column to date time\n",
    "df1['Date'] = pd.to_datetime(df1['Date'], format='%d/%m/%Y')\n",
    "#add Yearpart column for joining to County level statistical data\n",
    "df1['Yearpart'] = df1['Date'].dt.year.apply(str)\n",
    "df1.insert(loc=1, column='Year',value=df1['Yearpart'] )"
   ]
  },
  {
   "cell_type": "markdown",
   "id": "06b5df9d",
   "metadata": {},
   "source": [
    "##### 02.5.1.2.3 Quick Statisicts<a id='02.5.1.2.3_Quick_Statistics'></a>"
   ]
  },
  {
   "cell_type": "code",
   "execution_count": 6,
   "id": "6ece9d27",
   "metadata": {
    "scrolled": true
   },
   "outputs": [
    {
     "name": "stdout",
     "output_type": "stream",
     "text": [
      "         BUDAPEST     BARANYA        BACS       BEKES      BORSOD    CSONGRAD  \\\n",
      "count  522.000000  522.000000  522.000000  522.000000  522.000000  522.000000   \n",
      "mean   101.245211   34.204981   37.166667   28.911877   57.082375   31.488506   \n",
      "std     76.354872   32.567222   36.843095   37.618092   50.725437   33.790208   \n",
      "min      0.000000    0.000000    0.000000    0.000000    0.000000    0.000000   \n",
      "25%     34.250000    8.000000    8.000000    4.000000   14.250000    6.000000   \n",
      "50%     93.000000   25.000000   29.500000   14.000000   46.500000   20.500000   \n",
      "75%    149.000000   51.000000   53.000000   38.750000   83.750000   47.000000   \n",
      "max    479.000000  194.000000  274.000000  271.000000  355.000000  199.000000   \n",
      "\n",
      "            FEJER        GYOR       HAJDU       HEVES        JASZ     KOMAROM  \\\n",
      "count  522.000000  522.000000  522.000000  522.000000  522.000000  522.000000   \n",
      "mean    33.272031   41.436782   47.097701   29.691571   40.869732   25.643678   \n",
      "std     31.397989   36.014297   44.610836   31.857750   37.283299   24.467995   \n",
      "min      0.000000    0.000000    0.000000    0.000000    0.000000    0.000000   \n",
      "25%      7.000000    9.000000   11.000000    6.250000   10.000000    6.000000   \n",
      "50%     24.000000   35.000000   37.000000   21.000000   31.000000   19.000000   \n",
      "75%     51.750000   63.000000   68.000000   41.000000   61.750000   39.000000   \n",
      "max    164.000000  181.000000  262.000000  210.000000  224.000000  160.000000   \n",
      "\n",
      "           NOGRAD        PEST      SOMOGY    SZABOLCS       TOLNA         VAS  \\\n",
      "count  522.000000  522.000000  522.000000  522.000000  522.000000  522.000000   \n",
      "mean    21.850575   86.101533   27.609195   29.854406   20.352490   22.467433   \n",
      "std     22.025999   66.773741   26.724236   31.814630   23.273025   25.006638   \n",
      "min      0.000000    0.000000    0.000000    0.000000    0.000000    0.000000   \n",
      "25%      4.000000   28.250000    6.000000    6.000000    4.000000    3.000000   \n",
      "50%     15.000000   81.000000   20.500000   18.500000   12.000000   13.000000   \n",
      "75%     32.750000  129.750000   41.000000   45.000000   29.000000   34.000000   \n",
      "max    112.000000  431.000000  155.000000  203.000000  131.000000  141.000000   \n",
      "\n",
      "         VESZPREM        ZALA  \n",
      "count  522.000000  522.000000  \n",
      "mean    40.636015   19.873563  \n",
      "std     40.699471   21.999636  \n",
      "min      0.000000    0.000000  \n",
      "25%      7.250000    4.000000  \n",
      "50%     32.000000   13.000000  \n",
      "75%     59.000000   31.000000  \n",
      "max    230.000000  216.000000  \n"
     ]
    }
   ],
   "source": [
    "print(df1.describe())"
   ]
  },
  {
   "cell_type": "markdown",
   "id": "45817d89",
   "metadata": {},
   "source": [
    "##### 02.5.1.2.4 Cumulative Case Counts by County<a id='02.5.1.2.4_Cumulative_Case_Counts_by_County'></a>"
   ]
  },
  {
   "cell_type": "code",
   "execution_count": 7,
   "id": "a2b77f70",
   "metadata": {},
   "outputs": [
    {
     "data": {
      "image/png": "[encoded data removed]",
      "text/plain": [
       "<Figure size 1080x720 with 20 Axes>"
      ]
     },
     "metadata": {
      "needs_background": "light"
     },
     "output_type": "display_data"
    }
   ],
   "source": [
    "df1.loc[:,'BUDAPEST':'ZALA'].hist(figsize=(15, 10))\n",
    "plt.subplots_adjust(hspace=0.60)\n"
   ]
  },
  {
   "cell_type": "markdown",
   "id": "81a4d871",
   "metadata": {},
   "source": [
    "#### 02.5.1.3 Reshape Raw Data<a id='02.5.1.2_Reshape_Raw_Data'></a>"
   ]
  },
  {
   "cell_type": "code",
   "execution_count": 8,
   "id": "e610df5f",
   "metadata": {
    "scrolled": true
   },
   "outputs": [],
   "source": [
    "counties =['BUDAPEST', 'BARANYA', 'BACS', 'BEKES', 'BORSOD', 'CSONGRAD', 'FEJER', 'GYOR', 'HEVES','HAJDU','JASZ','KOMAROM','NOGRAD','PEST','SOMOGY', 'SZABOLCS', 'TOLNA', 'VAS','VESZPREM','ZALA']\n",
    "df2=pd.melt(df1,id_vars=['Date', 'Year'], value_vars=counties, var_name='County', value_name='Cases')"
   ]
  },
  {
   "cell_type": "markdown",
   "id": "f02eb452",
   "metadata": {},
   "source": [
    "##### 02.5.1.3.1 Example<a id='02.5.1.3.1_Example'></a>"
   ]
  },
  {
   "cell_type": "code",
   "execution_count": 9,
   "id": "cfcadc46",
   "metadata": {},
   "outputs": [
    {
     "name": "stdout",
     "output_type": "stream",
     "text": [
      "        Date  Year    County  Cases\n",
      "0 2005-01-03  2005  BUDAPEST    168\n",
      "1 2005-01-10  2005  BUDAPEST    157\n",
      "2 2005-01-17  2005  BUDAPEST     96\n",
      "3 2005-01-24  2005  BUDAPEST    163\n",
      "4 2005-01-31  2005  BUDAPEST    122\n"
     ]
    }
   ],
   "source": [
    "print(df2.head())"
   ]
  },
  {
   "cell_type": "markdown",
   "id": "c5b99068",
   "metadata": {},
   "source": [
    "##### 02.5.1.3.2 Structure<a id='02.5.1.3.2_Structure'></a>"
   ]
  },
  {
   "cell_type": "code",
   "execution_count": 10,
   "id": "18a5ab7d",
   "metadata": {},
   "outputs": [
    {
     "name": "stdout",
     "output_type": "stream",
     "text": [
      "<class 'pandas.core.frame.DataFrame'>\n",
      "RangeIndex: 10440 entries, 0 to 10439\n",
      "Data columns (total 4 columns):\n",
      " #   Column  Non-Null Count  Dtype         \n",
      "---  ------  --------------  -----         \n",
      " 0   Date    10440 non-null  datetime64[ns]\n",
      " 1   Year    10440 non-null  object        \n",
      " 2   County  10440 non-null  object        \n",
      " 3   Cases   10440 non-null  int64         \n",
      "dtypes: datetime64[ns](1), int64(1), object(2)\n",
      "memory usage: 326.4+ KB\n",
      "None\n"
     ]
    }
   ],
   "source": [
    "print(df2.info())"
   ]
  },
  {
   "cell_type": "markdown",
   "id": "759b70f6",
   "metadata": {},
   "source": [
    "### 02.5.2 Import Adjacent County to County<a id='02.5.2_Import_Adjacent_County_to_County'></a>"
   ]
  },
  {
   "cell_type": "markdown",
   "id": "4fad8dff",
   "metadata": {},
   "source": [
    "This file defines the geospatial relationships between the counties. Field \"name_1\" identifies a county. Field \"name_2\" identifies the adjacent coounties for \"name_1\".  Field \"id_1\" is a numerical representation for \"name_1\", and field  \"id_2\" is a numerical representation for \"name_2\"."
   ]
  },
  {
   "cell_type": "markdown",
   "id": "d70d9ea6",
   "metadata": {},
   "source": [
    "#### 02.5.2.1 Import Raw Data<a id='02.5.2.1_Import_Raw_Data'></a>"
   ]
  },
  {
   "cell_type": "code",
   "execution_count": 11,
   "id": "7967ed42",
   "metadata": {},
   "outputs": [],
   "source": [
    "# Assign filename: file\n",
    "File_Location='data/raw/hungary_county_edges.csv'\n",
    "file =Project_Local+File_Location\n",
    "# Load county geographical position data \n",
    "df3 = pd.read_csv(file)"
   ]
  },
  {
   "cell_type": "markdown",
   "id": "3b36180a",
   "metadata": {},
   "source": [
    "#### 02.5.2.2 Review Raw Data<a id='02.5.2.2_Review_Raw_Data'></a>"
   ]
  },
  {
   "cell_type": "markdown",
   "id": "a9fa1e80",
   "metadata": {},
   "source": [
    "##### 02.5.2.2.1 Example<a id='02.5.2.2.1_Example'></a>"
   ]
  },
  {
   "cell_type": "code",
   "execution_count": 12,
   "id": "3955a152",
   "metadata": {
    "scrolled": true
   },
   "outputs": [
    {
     "name": "stdout",
     "output_type": "stream",
     "text": [
      "     name_1    name_2  id_1  id_2\n",
      "0      BACS      JASZ     0    10\n",
      "1      BACS      BACS     0     0\n",
      "2      BACS   BARANYA     0     1\n",
      "3      BACS  CSONGRAD     0     5\n",
      "4      BACS      PEST     0    13\n",
      "5      BACS     FEJER     0     6\n",
      "6      BACS     TOLNA     0    16\n",
      "7   BARANYA   BARANYA     1     1\n",
      "8   BARANYA     TOLNA     1    16\n",
      "9   BARANYA    SOMOGY     1    14\n",
      "10  BARANYA      BACS     1     0\n",
      "11    BEKES     HAJDU     2     8\n",
      "12    BEKES     BEKES     2     2\n",
      "13    BEKES      JASZ     2    10\n",
      "14    BEKES  CSONGRAD     2     5\n",
      "15   BORSOD     HEVES     3     9\n",
      "16   BORSOD  SZABOLCS     3    15\n",
      "17   BORSOD     HAJDU     3     8\n",
      "18   BORSOD    BORSOD     3     3\n",
      "19   BORSOD    NOGRAD     3    12\n"
     ]
    }
   ],
   "source": [
    "print(df3.head(20))"
   ]
  },
  {
   "cell_type": "markdown",
   "id": "7978bd2a",
   "metadata": {},
   "source": [
    "##### 02.5.2.2.2 Structure<a id='02.5.2.2.2_Structure'></a>"
   ]
  },
  {
   "cell_type": "code",
   "execution_count": 13,
   "id": "de1834f3",
   "metadata": {},
   "outputs": [
    {
     "name": "stdout",
     "output_type": "stream",
     "text": [
      "<class 'pandas.core.frame.DataFrame'>\n",
      "RangeIndex: 102 entries, 0 to 101\n",
      "Data columns (total 4 columns):\n",
      " #   Column  Non-Null Count  Dtype \n",
      "---  ------  --------------  ----- \n",
      " 0   name_1  102 non-null    object\n",
      " 1   name_2  102 non-null    object\n",
      " 2   id_1    102 non-null    int64 \n",
      " 3   id_2    102 non-null    int64 \n",
      "dtypes: int64(2), object(2)\n",
      "memory usage: 3.3+ KB\n",
      "None\n"
     ]
    }
   ],
   "source": [
    "print(df3.info())"
   ]
  },
  {
   "cell_type": "markdown",
   "id": "9e9ef676",
   "metadata": {},
   "source": [
    "#### 02.5.2.3 Reshape Raw Data<a id='02.5.2.3_Reshape_Raw_Data'></a>"
   ]
  },
  {
   "cell_type": "code",
   "execution_count": 14,
   "id": "8d054e44",
   "metadata": {
    "scrolled": true
   },
   "outputs": [
    {
     "name": "stdout",
     "output_type": "stream",
     "text": [
      "<class 'pandas.core.frame.DataFrame'>\n",
      "RangeIndex: 102 entries, 0 to 101\n",
      "Data columns (total 5 columns):\n",
      " #   Column         Non-Null Count  Dtype \n",
      "---  ------         --------------  ----- \n",
      " 0   name_1         102 non-null    object\n",
      " 1   name_2         102 non-null    object\n",
      " 2   id_1           102 non-null    object\n",
      " 3   id_2           102 non-null    object\n",
      " 4   name_adjacent  102 non-null    object\n",
      "dtypes: object(5)\n",
      "memory usage: 4.1+ KB\n",
      "None\n"
     ]
    }
   ],
   "source": [
    "#Create adjacent county column\n",
    "df3['name_adjacent']= df3['name_2']+'_adjacent'\n",
    "\n",
    "#Columns data types changed to string.  Used for referential purposes not quanitative\n",
    "df3['id_1'] = df3['id_1'].astype(str)\n",
    "df3['id_2'] = df3['id_2'].astype(str)\n",
    "print(df3.info())"
   ]
  },
  {
   "cell_type": "code",
   "execution_count": 15,
   "id": "94e3179f",
   "metadata": {},
   "outputs": [],
   "source": [
    "\n",
    "\n",
    "#set all values to 1 for contiguous counties in df3['id_1']\n",
    "counter_df3 =len(df3['name_2'])\n",
    "counter=0\n",
    "\n",
    "while counter < counter_df3:\n",
    "    if df3['name_1'][counter]!= df3['name_2'][counter]:\n",
    "        df3['id_1'][counter]='1'\n",
    "\n",
    "    else: \n",
    "        df3['id_1'][counter]='0'\n",
    "\n",
    "    counter=counter+1"
   ]
  },
  {
   "cell_type": "code",
   "execution_count": 16,
   "id": "efb766c1",
   "metadata": {},
   "outputs": [
    {
     "name": "stdout",
     "output_type": "stream",
     "text": [
      "<class 'pandas.core.frame.DataFrame'>\n",
      "RangeIndex: 102 entries, 0 to 101\n",
      "Data columns (total 5 columns):\n",
      " #   Column         Non-Null Count  Dtype \n",
      "---  ------         --------------  ----- \n",
      " 0   name_1         102 non-null    object\n",
      " 1   name_2         102 non-null    object\n",
      " 2   id_1           102 non-null    object\n",
      " 3   id_2           102 non-null    object\n",
      " 4   name_adjacent  102 non-null    object\n",
      "dtypes: object(5)\n",
      "memory usage: 4.1+ KB\n",
      "None\n",
      "  name_1    name_2 id_1 id_2      name_adjacent\n",
      "0   BACS      JASZ    1   10      JASZ_adjacent\n",
      "1   BACS      BACS    0    0      BACS_adjacent\n",
      "2   BACS   BARANYA    1    1   BARANYA_adjacent\n",
      "3   BACS  CSONGRAD    1    5  CSONGRAD_adjacent\n",
      "4   BACS      PEST    1   13      PEST_adjacent\n"
     ]
    }
   ],
   "source": [
    "#assess new structure\n",
    "print(df3.info())\n",
    "print(df3.head())\n",
    "#delete unrequired columnsdf3a=df3.drop(columns=['name_2','id_2'])\n",
    "df3a=df3.drop(columns=['name_2','id_2'])\n"
   ]
  },
  {
   "cell_type": "code",
   "execution_count": 17,
   "id": "d9f458e2",
   "metadata": {
    "scrolled": true
   },
   "outputs": [
    {
     "name": "stdout",
     "output_type": "stream",
     "text": [
      "<class 'pandas.core.frame.DataFrame'>\n",
      "Index: 20 entries, BACS to ZALA\n",
      "Data columns (total 20 columns):\n",
      " #   Column             Non-Null Count  Dtype \n",
      "---  ------             --------------  ----- \n",
      " 0   BACS_adjacent      20 non-null     object\n",
      " 1   BARANYA_adjacent   20 non-null     object\n",
      " 2   BEKES_adjacent     20 non-null     object\n",
      " 3   BORSOD_adjacent    20 non-null     object\n",
      " 4   BUDAPEST_adjacent  20 non-null     object\n",
      " 5   CSONGRAD_adjacent  20 non-null     object\n",
      " 6   FEJER_adjacent     20 non-null     object\n",
      " 7   GYOR_adjacent      20 non-null     object\n",
      " 8   HAJDU_adjacent     20 non-null     object\n",
      " 9   HEVES_adjacent     20 non-null     object\n",
      " 10  JASZ_adjacent      20 non-null     object\n",
      " 11  KOMAROM_adjacent   20 non-null     object\n",
      " 12  NOGRAD_adjacent    20 non-null     object\n",
      " 13  PEST_adjacent      20 non-null     object\n",
      " 14  SOMOGY_adjacent    20 non-null     object\n",
      " 15  SZABOLCS_adjacent  20 non-null     object\n",
      " 16  TOLNA_adjacent     20 non-null     object\n",
      " 17  VAS_adjacent       20 non-null     object\n",
      " 18  VESZPREM_adjacent  20 non-null     object\n",
      " 19  ZALA_adjacent      20 non-null     object\n",
      "dtypes: object(20)\n",
      "memory usage: 3.3+ KB\n",
      "None\n",
      "name_adjacent BACS_adjacent BARANYA_adjacent BEKES_adjacent BORSOD_adjacent  \\\n",
      "name_1                                                                        \n",
      "BACS                      0                1              0               0   \n",
      "BARANYA                   1                0              0               0   \n",
      "BEKES                     0                0              0               0   \n",
      "BORSOD                    0                0              0               0   \n",
      "BUDAPEST                  0                0              0               0   \n",
      "CSONGRAD                  1                0              1               0   \n",
      "FEJER                     1                0              0               0   \n",
      "\n",
      "name_adjacent BUDAPEST_adjacent CSONGRAD_adjacent FEJER_adjacent  \\\n",
      "name_1                                                             \n",
      "BACS                          0                 1              1   \n",
      "BARANYA                       0                 0              0   \n",
      "BEKES                         0                 1              0   \n",
      "BORSOD                        0                 0              0   \n",
      "BUDAPEST                      0                 0              0   \n",
      "CSONGRAD                      0                 0              0   \n",
      "FEJER                         0                 0              0   \n",
      "\n",
      "name_adjacent GYOR_adjacent HAJDU_adjacent HEVES_adjacent JASZ_adjacent  \\\n",
      "name_1                                                                    \n",
      "BACS                      0              0              0             1   \n",
      "BARANYA                   0              0              0             0   \n",
      "BEKES                     0              1              0             1   \n",
      "BORSOD                    0              1              1             1   \n",
      "BUDAPEST                  0              0              0             0   \n",
      "CSONGRAD                  0              0              0             1   \n",
      "FEJER                     0              0              0             0   \n",
      "\n",
      "name_adjacent KOMAROM_adjacent NOGRAD_adjacent PEST_adjacent SOMOGY_adjacent  \\\n",
      "name_1                                                                         \n",
      "BACS                         0               0             1               0   \n",
      "BARANYA                      0               0             0               1   \n",
      "BEKES                        0               0             0               0   \n",
      "BORSOD                       0               1             0               0   \n",
      "BUDAPEST                     0               0             1               0   \n",
      "CSONGRAD                     0               0             0               0   \n",
      "FEJER                        1               0             1               1   \n",
      "\n",
      "name_adjacent SZABOLCS_adjacent TOLNA_adjacent VAS_adjacent VESZPREM_adjacent  \\\n",
      "name_1                                                                          \n",
      "BACS                          0              1            0                 0   \n",
      "BARANYA                       0              1            0                 0   \n",
      "BEKES                         0              0            0                 0   \n",
      "BORSOD                        1              0            0                 0   \n",
      "BUDAPEST                      0              0            0                 0   \n",
      "CSONGRAD                      0              0            0                 0   \n",
      "FEJER                         0              1            0                 1   \n",
      "\n",
      "name_adjacent ZALA_adjacent  \n",
      "name_1                       \n",
      "BACS                      0  \n",
      "BARANYA                   0  \n",
      "BEKES                     0  \n",
      "BORSOD                    0  \n",
      "BUDAPEST                  0  \n",
      "CSONGRAD                  0  \n",
      "FEJER                     0  \n"
     ]
    }
   ],
   "source": [
    "#Create new dataframe of counties to adjacent counties\n",
    "df4=df3a.pivot(index='name_1', columns='name_adjacent', values='id_1')\n",
    "# fill the non adjacent county values with 0\n",
    "df4 = df4.fillna(0)\n",
    "print(df4.info())\n",
    "print(df4.head(7))"
   ]
  },
  {
   "cell_type": "markdown",
   "id": "6afde4f2",
   "metadata": {},
   "source": [
    "### 02.5.3 Import Statistical Data by County<a id='02.5.3_Import_Statistical_Data_by_County'></a>"
   ]
  },
  {
   "cell_type": "markdown",
   "id": "702c7546",
   "metadata": {},
   "source": [
    "Data retrieved from Hungarian Central Statistical Office website.  Data is recorded by county on an annual basis. \n",
    "Definitions of columns:\n",
    "\n",
    "<p>Year: Year\n",
    "<p>County: County\n",
    "<p>Area_km: KM^2\n",
    "<p>Perm_pop: Permanent population (Citizens)\n",
    "<p>Perm_pop0-2: Permanent population (Citizens) between 0-2 years old\n",
    "<p>Perm_pop3-5: Permanent population (Citizens) between 3-4 years old\n",
    "<p>Perm_pop6-13: Permanent population (Citizens) between 6-13 years old\n",
    "<p>Perm_pop14: Permanent population (Citizens) 14 years old\n",
    "<p>Live-births: Live births during year\n",
    "<p>Infant_deaths: Infant deaths during year\n",
    "<p>Internal_immigration: Hungarian citizens moving into county\n",
    "<p>Internal_emmigration: Hungarian citizens leaving county\n",
    "<p>Dwellings: Number of residence\n",
    "<p>Street_taps: Number of potable water system connections delivered at street level\n",
    "<p>HH_water_net: Number of households connected to potable water network\n",
    "<p>HH_water_net_CY: Number of households connected during year to potable water network\n",
    "<p>HH_sewer_net: Number of households connected to sewer network \n",
    "<p>HH_electric_net: Number of households connected to electric grid\n",
    "<p>HH_gas_net:  Number of households connected to natual gas network\n",
    "<p>HH_dist_heat_net: Number of households connected to heating network \n",
    "<p>HH_hot_water_net: Number of households connected to hot water network\n",
    "<p>HH_trash_serv:  Number of households with trash service\n",
    "<p>Num_general_pract: Number of general practicioners\n",
    "<p>Num_pediatrican: Number of pediatricians\n",
    "<p>GP_Nurses: number of general nurses\n",
    "<p>Hospital_Beds: Number of hospital beds\n",
    "<p>Gyno_ped_nurses: Number of gynological and pediatric nurses\n",
    "<p>Pharmacies: Number of pharmacies\n",
    "<p>Branch_pharmacies: Number of branch pharmacies\n",
    "<p>Job_seekers: number who were looking for work in a year"
   ]
  },
  {
   "cell_type": "markdown",
   "id": "208d59dd",
   "metadata": {},
   "source": [
    "#### 02.5.3.1 Import Raw Data<a id='02.5.3.1_Import_Raw_Data'></a>"
   ]
  },
  {
   "cell_type": "code",
   "execution_count": 18,
   "id": "45e06eb0",
   "metadata": {},
   "outputs": [
    {
     "name": "stderr",
     "output_type": "stream",
     "text": [
      "C:\\Users\\Greki\\SP\\anaconda3\\lib\\site-packages\\openpyxl\\styles\\stylesheet.py:221: UserWarning: Workbook contains no default style, apply openpyxl's default\n",
      "  warn(\"Workbook contains no default style, apply openpyxl's default\")\n"
     ]
    }
   ],
   "source": [
    "# Assign spreadsheet filename: file\n",
    "File_Location=\"data/raw/Annual_statistical_data.xlsx\"\n",
    "census_file =Project_Local+File_Location\n",
    "xls= pd.ExcelFile(census_file)\n",
    "# Print sheet names\n",
    "sheets=(xls.sheet_names)\n",
    "\n",
    "\n",
    "# Load sheet into a DataFrame\n",
    "HCD_1 = xls.parse(sheets[0],skiprows= 6,\n",
    "                  usecols=[0,1,2,3,4,5,6,7,8,9,10,11,12,13,14,15,16,17,18,19,20,21,22,23,24,25,26,27,28,29],\n",
    "                  names=['Year', 'County', 'Area_km','Perm_pop','Perm_pop0-2','Perm_pop3-5','Perm_pop6-13','Perm_pop14',\n",
    "                        'Live-births', 'Infant_deaths','Internal_immigration','Internal_emmigration',\n",
    "                         'Dwellings','Street_taps','HH_water_net', 'HH_water_net_CY', 'HH_sewer_net',\n",
    "                         'HH_electric_net', 'HH_gas_net', 'HH_dist_heat_net','HH_hot_water_net','HH_trash_serv',\n",
    "                         'Num_general_pract','Num_pediatrican','GP_Nurses','Hospital_Beds','Gyno_ped_nurses','Pharmacies',\n",
    "                        'Branch_pharmacies','Job_seekers'])\n",
    "#replace the NaN in HCD_1['Year'] with the single year value per year block\n",
    "HCD_1['Year']= HCD_1['Year'].fillna(method='ffill').str.replace('. year','', regex= True)#Received warning message about regex default setting changing in newer version \n",
    "\n",
    "# Drop empty rows from import\n",
    "HCD_1= HCD_1.drop(HCD_1.index[[200,201]], axis=0)"
   ]
  },
  {
   "cell_type": "markdown",
   "id": "59847783",
   "metadata": {},
   "source": [
    "#### 02.5.3.2 Review Raw Data<a id='02.5.3.2_Review_Raw_Data'></a>"
   ]
  },
  {
   "cell_type": "markdown",
   "id": "6ef02e8e",
   "metadata": {},
   "source": [
    "#### 02.5.3.2.1 Example<a id='02.5.2.2.1_Example'></a>"
   ]
  },
  {
   "cell_type": "code",
   "execution_count": 19,
   "id": "c94fd537",
   "metadata": {
    "scrolled": true
   },
   "outputs": [
    {
     "name": "stdout",
     "output_type": "stream",
     "text": [
      "   Year                    County  Area_km   Perm_pop  Perm_pop0-2  \\\n",
      "0  2005                  Budapest   525.10  1690109.0      43314.0   \n",
      "1  2005               Pest county  6393.25  1157340.0      36811.0   \n",
      "2  2005              Fejér county  4358.49   433945.0      12098.0   \n",
      "3  2005  Komárom-Esztergom county  2265.08   317965.0       8772.0   \n",
      "4  2005           Veszprém county  4463.55   368659.0       9807.0   \n",
      "\n",
      "   Perm_pop3-5  Perm_pop6-13  Perm_pop14  Live-births  Infant_deaths  ...  \\\n",
      "0      39791.0      110901.0     16698.0      15911.0           72.0  ...   \n",
      "1      37788.0      106954.0     14948.0      12238.0           54.0  ...   \n",
      "2      12150.0       37359.0      5766.0       4055.0           28.0  ...   \n",
      "3       9001.0       27015.0      4087.0       2974.0           19.0  ...   \n",
      "4       9731.0       30371.0      4828.0       3277.0           17.0  ...   \n",
      "\n",
      "   HH_hot_water_net  HH_trash_serv  Num_general_pract  Num_pediatrican  \\\n",
      "0          227742.0       843733.0              979.0            342.0   \n",
      "1           19766.0       372007.0              467.0            181.0   \n",
      "2           32568.0       146137.0              199.0             65.0   \n",
      "3           34379.0       116778.0              152.0             50.0   \n",
      "4           21160.0       129823.0              185.0             53.0   \n",
      "\n",
      "   GP_Nurses  Hospital_Beds  Gyno_ped_nurses  Pharmacies  Branch_pharmacies  \\\n",
      "0      994.0        22467.0            702.0       376.0                NaN   \n",
      "1      501.0         3591.0            493.5       205.0               51.0   \n",
      "2      250.0         2734.0            192.0        83.0               35.0   \n",
      "3      177.0         2048.0            146.5        63.0               17.0   \n",
      "4      212.0         3213.0            190.0        76.0               50.0   \n",
      "\n",
      "   Job_seekers  \n",
      "0      20599.0  \n",
      "1      19981.0  \n",
      "2      14179.0  \n",
      "3       9375.0  \n",
      "4      12832.0  \n",
      "\n",
      "[5 rows x 30 columns]\n"
     ]
    }
   ],
   "source": [
    "print(HCD_1.head())"
   ]
  },
  {
   "cell_type": "markdown",
   "id": "39fe6628",
   "metadata": {},
   "source": [
    "##### 02.5.3.2.2 Structure<a id='02.5.3.2.2_Structure'></a>"
   ]
  },
  {
   "cell_type": "code",
   "execution_count": 20,
   "id": "5b662692",
   "metadata": {
    "scrolled": true
   },
   "outputs": [
    {
     "name": "stdout",
     "output_type": "stream",
     "text": [
      "<class 'pandas.core.frame.DataFrame'>\n",
      "Int64Index: 200 entries, 0 to 199\n",
      "Data columns (total 30 columns):\n",
      " #   Column                Non-Null Count  Dtype  \n",
      "---  ------                --------------  -----  \n",
      " 0   Year                  200 non-null    object \n",
      " 1   County                200 non-null    object \n",
      " 2   Area_km               200 non-null    float64\n",
      " 3   Perm_pop              200 non-null    float64\n",
      " 4   Perm_pop0-2           200 non-null    float64\n",
      " 5   Perm_pop3-5           200 non-null    float64\n",
      " 6   Perm_pop6-13          200 non-null    float64\n",
      " 7   Perm_pop14            200 non-null    float64\n",
      " 8   Live-births           200 non-null    float64\n",
      " 9   Infant_deaths         200 non-null    float64\n",
      " 10  Internal_immigration  200 non-null    float64\n",
      " 11  Internal_emmigration  200 non-null    float64\n",
      " 12  Dwellings             200 non-null    float64\n",
      " 13  Street_taps           200 non-null    float64\n",
      " 14  HH_water_net          200 non-null    float64\n",
      " 15  HH_water_net_CY       198 non-null    float64\n",
      " 16  HH_sewer_net          200 non-null    float64\n",
      " 17  HH_electric_net       200 non-null    float64\n",
      " 18  HH_gas_net            200 non-null    float64\n",
      " 19  HH_dist_heat_net      200 non-null    float64\n",
      " 20  HH_hot_water_net      199 non-null    float64\n",
      " 21  HH_trash_serv         160 non-null    float64\n",
      " 22  Num_general_pract     200 non-null    float64\n",
      " 23  Num_pediatrican       200 non-null    float64\n",
      " 24  GP_Nurses             200 non-null    float64\n",
      " 25  Hospital_Beds         200 non-null    float64\n",
      " 26  Gyno_ped_nurses       200 non-null    float64\n",
      " 27  Pharmacies            200 non-null    float64\n",
      " 28  Branch_pharmacies     190 non-null    float64\n",
      " 29  Job_seekers           200 non-null    float64\n",
      "dtypes: float64(28), object(2)\n",
      "memory usage: 48.4+ KB\n",
      "None\n"
     ]
    }
   ],
   "source": [
    "print(HCD_1.info())"
   ]
  },
  {
   "cell_type": "code",
   "execution_count": 21,
   "id": "0f12857c",
   "metadata": {},
   "outputs": [
    {
     "name": "stdout",
     "output_type": "stream",
     "text": [
      "     Year    County  HH_water_net_CY\n",
      "160  2013  Budapest              NaN\n",
      "180  2014  Budapest              NaN\n"
     ]
    }
   ],
   "source": [
    "# HH_water_net_CY data is missing for 2 years in Budapest county\n",
    "HW=HCD_1.query(\"HH_water_net_CY.isnull()\",engine='python')\n",
    "print(HW[['Year','County','HH_water_net_CY']])"
   ]
  },
  {
   "cell_type": "code",
   "execution_count": 22,
   "id": "3a0ade46",
   "metadata": {},
   "outputs": [],
   "source": [
    "#Replace with 0\n",
    "HCD_1['HH_water_net_CY'].fillna(0, inplace=True)"
   ]
  },
  {
   "cell_type": "code",
   "execution_count": 23,
   "id": "9086c737",
   "metadata": {},
   "outputs": [
    {
     "name": "stdout",
     "output_type": "stream",
     "text": [
      "Empty DataFrame\n",
      "Columns: [Year, County, HH_water_net_CY]\n",
      "Index: []\n"
     ]
    }
   ],
   "source": [
    "# HH_water_net_CY data is missing for 2 years in Budapest county\n",
    "HW=HCD_1.query(\"HH_water_net_CY.isnull()\",engine='python')\n",
    "print(HW[['Year','County','HH_water_net_CY']])"
   ]
  },
  {
   "cell_type": "code",
   "execution_count": 24,
   "id": "42c9b66c",
   "metadata": {},
   "outputs": [
    {
     "name": "stdout",
     "output_type": "stream",
     "text": [
      "     Year        County  HH_hot_water_net\n",
      "198  2014  Békés county               NaN\n"
     ]
    }
   ],
   "source": [
    "# HH_hot_water_net data is missing for 1 years in BEKES county\n",
    "HW=HCD_1.query(\"HH_hot_water_net.isnull()\",engine='python')\n",
    "print(HW[['Year','County','HH_hot_water_net']])"
   ]
  },
  {
   "cell_type": "code",
   "execution_count": 25,
   "id": "2e56cc6d",
   "metadata": {},
   "outputs": [],
   "source": [
    "#Replace with 0\n",
    "HCD_1['HH_hot_water_net'].fillna(0, inplace=True)"
   ]
  },
  {
   "cell_type": "code",
   "execution_count": 26,
   "id": "35ee5fd3",
   "metadata": {},
   "outputs": [
    {
     "name": "stdout",
     "output_type": "stream",
     "text": [
      "Empty DataFrame\n",
      "Columns: [Year, County, HH_hot_water_net]\n",
      "Index: []\n"
     ]
    }
   ],
   "source": [
    "# HH_hot_water_net data is missing for 1 years in BEKES county check for NaN\n",
    "HW=HCD_1.query(\"HH_hot_water_net.isnull()\",engine='python')\n",
    "print(HW[['Year','County','HH_hot_water_net']])"
   ]
  },
  {
   "cell_type": "code",
   "execution_count": 27,
   "id": "0b41b4c7",
   "metadata": {
    "scrolled": true
   },
   "outputs": [
    {
     "name": "stdout",
     "output_type": "stream",
     "text": [
      "     Year                         County  HH_trash_serv\n",
      "160  2013                       Budapest            NaN\n",
      "161  2013                    Pest county            NaN\n",
      "162  2013                   Fejér county            NaN\n",
      "163  2013       Komárom-Esztergom county            NaN\n",
      "164  2013                Veszprém county            NaN\n",
      "165  2013       Győr-Moson-Sopron county            NaN\n",
      "166  2013                     Vas county            NaN\n",
      "167  2013                    Zala county            NaN\n",
      "168  2013                 Baranya county            NaN\n",
      "169  2013                  Somogy county            NaN\n",
      "170  2013                   Tolna county            NaN\n",
      "171  2013    Borsod-Abaúj-Zemplén county            NaN\n",
      "172  2013                   Heves county            NaN\n",
      "173  2013                  Nógrád county            NaN\n",
      "174  2013             Hajdú-Bihar county            NaN\n",
      "175  2013    Jász-Nagykun-Szolnok county            NaN\n",
      "176  2013  Szabolcs-Szatmár-Bereg county            NaN\n",
      "177  2013             Bács-Kiskun county            NaN\n",
      "178  2013                   Békés county            NaN\n",
      "179  2013         Csongrád-Csanád county            NaN\n",
      "180  2014                       Budapest            NaN\n",
      "181  2014                    Pest county            NaN\n",
      "182  2014                   Fejér county            NaN\n",
      "183  2014       Komárom-Esztergom county            NaN\n",
      "184  2014                Veszprém county            NaN\n",
      "185  2014       Győr-Moson-Sopron county            NaN\n",
      "186  2014                     Vas county            NaN\n",
      "187  2014                    Zala county            NaN\n",
      "188  2014                 Baranya county            NaN\n",
      "189  2014                  Somogy county            NaN\n",
      "190  2014                   Tolna county            NaN\n",
      "191  2014    Borsod-Abaúj-Zemplén county            NaN\n",
      "192  2014                   Heves county            NaN\n",
      "193  2014                  Nógrád county            NaN\n",
      "194  2014             Hajdú-Bihar county            NaN\n",
      "195  2014    Jász-Nagykun-Szolnok county            NaN\n",
      "196  2014  Szabolcs-Szatmár-Bereg county            NaN\n",
      "197  2014             Bács-Kiskun county            NaN\n",
      "198  2014                   Békés county            NaN\n",
      "199  2014         Csongrád-Csanád county            NaN\n"
     ]
    }
   ],
   "source": [
    "# Trash Service data is missing for 2 years for all counties\n",
    "Trash=HCD_1.query(\"HH_trash_serv.isnull()\",engine='python')\n",
    "print(Trash[['Year','County','HH_trash_serv']])\n"
   ]
  },
  {
   "cell_type": "code",
   "execution_count": 28,
   "id": "5a3b7d30",
   "metadata": {},
   "outputs": [],
   "source": [
    "#Replace with 0\n",
    "HCD_1['HH_trash_serv'].fillna(0, inplace=True)"
   ]
  },
  {
   "cell_type": "code",
   "execution_count": 29,
   "id": "b059e901",
   "metadata": {},
   "outputs": [
    {
     "name": "stdout",
     "output_type": "stream",
     "text": [
      "Empty DataFrame\n",
      "Columns: [Year, County, Branch_pharmacies]\n",
      "Index: []\n"
     ]
    }
   ],
   "source": [
    "#validate HH_trash_serv nulls replaced with 0s\n",
    "BP=HCD_1.query(\"HH_trash_serv.isnull()\",engine='python')\n",
    "print(BP[['Year','County','Branch_pharmacies']])"
   ]
  },
  {
   "cell_type": "code",
   "execution_count": 30,
   "id": "2484fa93",
   "metadata": {},
   "outputs": [
    {
     "name": "stdout",
     "output_type": "stream",
     "text": [
      "     Year    County  Branch_pharmacies\n",
      "0    2005  Budapest                NaN\n",
      "20   2006  Budapest                NaN\n",
      "40   2007  Budapest                NaN\n",
      "60   2008  Budapest                NaN\n",
      "80   2009  Budapest                NaN\n",
      "100  2010  Budapest                NaN\n",
      "120  2011  Budapest                NaN\n",
      "140  2012  Budapest                NaN\n",
      "160  2013  Budapest                NaN\n",
      "180  2014  Budapest                NaN\n"
     ]
    }
   ],
   "source": [
    "# Branch Pharmacies  Appear not to exist in Budapest\n",
    "BP=HCD_1.query(\"Branch_pharmacies.isnull()\",engine='python')\n",
    "print(BP[['Year','County','Branch_pharmacies']])"
   ]
  },
  {
   "cell_type": "code",
   "execution_count": 31,
   "id": "7e03cbbb",
   "metadata": {},
   "outputs": [],
   "source": [
    "#Replace with 0\n",
    "HCD_1['Branch_pharmacies'].fillna(0, inplace=True)"
   ]
  },
  {
   "cell_type": "code",
   "execution_count": 32,
   "id": "51488ecf",
   "metadata": {},
   "outputs": [
    {
     "name": "stdout",
     "output_type": "stream",
     "text": [
      "Empty DataFrame\n",
      "Columns: [Year, County, Branch_pharmacies]\n",
      "Index: []\n"
     ]
    }
   ],
   "source": [
    "# Branch Pharmacies   Budapest validation of NaN replacement\n",
    "BP=HCD_1.query(\"Branch_pharmacies.isnull()\",engine='python')\n",
    "print(BP[['Year','County','Branch_pharmacies']])"
   ]
  },
  {
   "cell_type": "markdown",
   "id": "357d318a",
   "metadata": {},
   "source": [
    "##### 02.5.3.2.3 Quick Statisicts<a id='02.5.3.2.3_Quick_Statistics'></a>"
   ]
  },
  {
   "cell_type": "code",
   "execution_count": 33,
   "id": "acd9e204",
   "metadata": {
    "scrolled": true
   },
   "outputs": [
    {
     "name": "stdout",
     "output_type": "stream",
     "text": [
      "           Area_km      Perm_pop   Perm_pop0-2   Perm_pop3-5   Perm_pop6-13  \\\n",
      "count   200.000000  2.000000e+02    200.000000    200.000000     200.000000   \n",
      "mean   4651.246800  5.059612e+05  14134.170000  14505.190000   39944.050000   \n",
      "std    1795.435185  3.489898e+05  10575.038882  10447.749294   25925.195577   \n",
      "min     525.090000  2.019850e+05   4921.000000   5075.000000   15620.000000   \n",
      "25%    3686.585000  3.161118e+05   8287.750000   8869.000000   24494.000000   \n",
      "50%    4393.980000  4.004995e+05  10418.500000  11107.500000   31184.000000   \n",
      "75%    5968.595000  5.478318e+05  15115.250000  15435.000000   45670.750000   \n",
      "max    8445.330000  1.704649e+06  49133.000000  49077.000000  117897.000000   \n",
      "\n",
      "         Perm_pop14   Live-births  Infant_deaths  Internal_immigration  \\\n",
      "count    200.000000    200.000000     200.000000            200.000000   \n",
      "mean    5436.195000   4652.155000      24.840000          22381.325000   \n",
      "std     3352.105806   3592.082067      17.908601          15586.029499   \n",
      "min     1980.000000   1590.000000       6.000000           7383.000000   \n",
      "25%     3284.000000   2667.250000      13.000000          14006.000000   \n",
      "50%     4142.000000   3375.000000      19.000000          17844.000000   \n",
      "75%     6235.000000   4944.250000      28.000000          22885.750000   \n",
      "max    16698.000000  17270.000000      87.000000          81401.000000   \n",
      "\n",
      "       Internal_emmigration  ...  HH_hot_water_net  HH_trash_serv  \\\n",
      "count             200.00000  ...        200.000000      200.00000   \n",
      "mean            22381.32500  ...      29988.435000   158170.07000   \n",
      "std             13184.43419  ...      47173.645755   172024.68976   \n",
      "min              8906.00000  ...          0.000000        0.00000   \n",
      "25%             14841.25000  ...       8422.250000    87917.00000   \n",
      "50%             18572.00000  ...      19292.000000   132808.00000   \n",
      "75%             23245.50000  ...      32903.250000   174367.50000   \n",
      "max             67501.00000  ...     228352.000000   898087.00000   \n",
      "\n",
      "       Num_general_pract  Num_pediatrican    GP_Nurses  Hospital_Beds  \\\n",
      "count          200.00000       200.000000   200.000000     200.000000   \n",
      "mean           247.10500        76.625000   284.235000    3612.840000   \n",
      "std            183.28127        68.142213   188.044499    3734.605117   \n",
      "min             99.00000        21.000000   122.000000    1440.000000   \n",
      "25%            151.00000        39.000000   193.750000    2165.000000   \n",
      "50%            193.50000        59.000000   232.000000    2816.500000   \n",
      "75%            258.00000        73.500000   296.000000    3424.750000   \n",
      "max            979.00000       342.000000  1009.000000   22467.000000   \n",
      "\n",
      "       Gyno_ped_nurses  Pharmacies  Branch_pharmacies   Job_seekers  \n",
      "count       200.000000  200.000000         200.000000    200.000000  \n",
      "mean        246.063350  117.365000          33.115000  24295.930000  \n",
      "std         146.165654   84.611211          16.264824  14382.378873  \n",
      "min          92.000000   37.000000           0.000000   5549.000000  \n",
      "25%         166.000000   73.000000          24.000000  14155.250000  \n",
      "50%         195.000000   93.000000          30.000000  20625.500000  \n",
      "75%         266.947500  130.500000          41.250000  29293.750000  \n",
      "max         758.000000  463.000000          77.000000  72584.000000  \n",
      "\n",
      "[8 rows x 28 columns]\n"
     ]
    }
   ],
   "source": [
    "print(HCD_1.describe())"
   ]
  },
  {
   "cell_type": "markdown",
   "id": "ea96d3ab",
   "metadata": {},
   "source": [
    "#### 02.5.3.3 Reshape Raw Data<a id='02.5.3.3_Reshape_Raw_Data'></a>"
   ]
  },
  {
   "cell_type": "code",
   "execution_count": 34,
   "id": "525380e1",
   "metadata": {},
   "outputs": [],
   "source": [
    "#Replace the county names with non-Hungarian alphabet characters\n",
    "# create manual list of counties due to special characters\n",
    "counties2 =[ 'BARANYA', 'BORSOD', 'BUDAPEST','BACS', 'BEKES', 'CSONGRAD', 'FEJER', 'GYOR', 'HEVES','HAJDU','JASZ','KOMAROM','NOGRAD','PEST','SOMOGY', 'SZABOLCS', 'TOLNA', 'VAS','VESZPREM','ZALA']\n",
    "\n",
    "#Create unique list HCD_1['County'] for Dictionary\n",
    "HCD_1_County=(HCD_1['County'].sort_values().unique())\n",
    "keys = HCD_1_County\n",
    "values = counties2\n",
    "County_dict = dict(zip(keys, values))\n",
    "\n",
    "HCD_1=HCD_1.replace({'County': County_dict}, regex= True) \n",
    "\n",
    "#Create one Perm_pop0-14 column\n",
    "HCD_1['Perm_pop0-14']= HCD_1['Perm_pop0-2']+HCD_1['Perm_pop3-5']+HCD_1['Perm_pop6-13']+HCD_1['Perm_pop14']\n",
    "\n"
   ]
  },
  {
   "cell_type": "code",
   "execution_count": 35,
   "id": "16d14aa6",
   "metadata": {},
   "outputs": [],
   "source": [
    "#Create new DataFrame \n",
    "HCD_2=HCD_1.copy()\n",
    "HCD_2=HCD_2.drop(columns=['Perm_pop0-2','Perm_pop3-5','Perm_pop6-13','Perm_pop14'])\n",
    "HCD_2.insert(loc=6, column='Children',value=HCD_2['Perm_pop0-14'] )"
   ]
  },
  {
   "cell_type": "markdown",
   "id": "e83f22a8",
   "metadata": {},
   "source": [
    "##### 02.5.3.3.1 Example<a id='02.5.3.3.1_Example'></a>"
   ]
  },
  {
   "cell_type": "code",
   "execution_count": 36,
   "id": "59459500",
   "metadata": {
    "scrolled": true
   },
   "outputs": [
    {
     "name": "stdout",
     "output_type": "stream",
     "text": [
      "   Year    County  Area_km   Perm_pop  Live-births  Infant_deaths  Children  \\\n",
      "0  2005  BUDAPEST   525.10  1690109.0      15911.0           72.0  210704.0   \n",
      "1  2005      PEST  6393.25  1157340.0      12238.0           54.0  196501.0   \n",
      "2  2005     FEJER  4358.49   433945.0       4055.0           28.0   67373.0   \n",
      "3  2005   KOMAROM  2265.08   317965.0       2974.0           19.0   48875.0   \n",
      "4  2005  VESZPREM  4463.55   368659.0       3277.0           17.0   54737.0   \n",
      "\n",
      "   Internal_immigration  Internal_emmigration  Dwellings  ...  HH_trash_serv  \\\n",
      "0               53922.0               58372.0   856181.0  ...       843733.0   \n",
      "1               64359.0               50461.0   422759.0  ...       372007.0   \n",
      "2               20451.0               19887.0   165343.0  ...       146137.0   \n",
      "3               13880.0               13369.0   122534.0  ...       116778.0   \n",
      "4               18961.0               19291.0   144794.0  ...       129823.0   \n",
      "\n",
      "   Num_general_pract  Num_pediatrican  GP_Nurses  Hospital_Beds  \\\n",
      "0              979.0            342.0      994.0        22467.0   \n",
      "1              467.0            181.0      501.0         3591.0   \n",
      "2              199.0             65.0      250.0         2734.0   \n",
      "3              152.0             50.0      177.0         2048.0   \n",
      "4              185.0             53.0      212.0         3213.0   \n",
      "\n",
      "   Gyno_ped_nurses  Pharmacies  Branch_pharmacies  Job_seekers  Perm_pop0-14  \n",
      "0            702.0       376.0                0.0      20599.0      210704.0  \n",
      "1            493.5       205.0               51.0      19981.0      196501.0  \n",
      "2            192.0        83.0               35.0      14179.0       67373.0  \n",
      "3            146.5        63.0               17.0       9375.0       48875.0  \n",
      "4            190.0        76.0               50.0      12832.0       54737.0  \n",
      "\n",
      "[5 rows x 28 columns]\n"
     ]
    }
   ],
   "source": [
    "print(HCD_2.head())"
   ]
  },
  {
   "cell_type": "markdown",
   "id": "b782b7cc",
   "metadata": {},
   "source": [
    "##### 02.5.3.3.2 Structure<a id='02.5.3.3.2_Structure'></a>"
   ]
  },
  {
   "cell_type": "code",
   "execution_count": 37,
   "id": "0a1bd98c",
   "metadata": {
    "scrolled": true
   },
   "outputs": [
    {
     "name": "stdout",
     "output_type": "stream",
     "text": [
      "<class 'pandas.core.frame.DataFrame'>\n",
      "Int64Index: 200 entries, 0 to 199\n",
      "Data columns (total 28 columns):\n",
      " #   Column                Non-Null Count  Dtype  \n",
      "---  ------                --------------  -----  \n",
      " 0   Year                  200 non-null    object \n",
      " 1   County                200 non-null    object \n",
      " 2   Area_km               200 non-null    float64\n",
      " 3   Perm_pop              200 non-null    float64\n",
      " 4   Live-births           200 non-null    float64\n",
      " 5   Infant_deaths         200 non-null    float64\n",
      " 6   Children              200 non-null    float64\n",
      " 7   Internal_immigration  200 non-null    float64\n",
      " 8   Internal_emmigration  200 non-null    float64\n",
      " 9   Dwellings             200 non-null    float64\n",
      " 10  Street_taps           200 non-null    float64\n",
      " 11  HH_water_net          200 non-null    float64\n",
      " 12  HH_water_net_CY       200 non-null    float64\n",
      " 13  HH_sewer_net          200 non-null    float64\n",
      " 14  HH_electric_net       200 non-null    float64\n",
      " 15  HH_gas_net            200 non-null    float64\n",
      " 16  HH_dist_heat_net      200 non-null    float64\n",
      " 17  HH_hot_water_net      200 non-null    float64\n",
      " 18  HH_trash_serv         200 non-null    float64\n",
      " 19  Num_general_pract     200 non-null    float64\n",
      " 20  Num_pediatrican       200 non-null    float64\n",
      " 21  GP_Nurses             200 non-null    float64\n",
      " 22  Hospital_Beds         200 non-null    float64\n",
      " 23  Gyno_ped_nurses       200 non-null    float64\n",
      " 24  Pharmacies            200 non-null    float64\n",
      " 25  Branch_pharmacies     200 non-null    float64\n",
      " 26  Job_seekers           200 non-null    float64\n",
      " 27  Perm_pop0-14          200 non-null    float64\n",
      "dtypes: float64(26), object(2)\n",
      "memory usage: 45.3+ KB\n",
      "None\n"
     ]
    }
   ],
   "source": [
    "#Review HCD_1 post changes\n",
    "print(HCD_2.info())"
   ]
  },
  {
   "cell_type": "markdown",
   "id": "de590ae6",
   "metadata": {},
   "source": [
    "##### 02.5.3.3.3 Feature Distributions<a id='02.5.3.3.2_Feature_Distributions'></a>"
   ]
  },
  {
   "cell_type": "code",
   "execution_count": 38,
   "id": "4114597a",
   "metadata": {
    "scrolled": true
   },
   "outputs": [
    {
     "data": {
      "image/png": "[encoded data removed]",
      "text/plain": [
       "<Figure size 1080x720 with 30 Axes>"
      ]
     },
     "metadata": {
      "needs_background": "light"
     },
     "output_type": "display_data"
    }
   ],
   "source": [
    "#Review a single year's distributions including all counties\n",
    "HCD_2005=HCD_2[HCD_2[\"Year\"]==\"2005\"]\n",
    "HCD_2005.hist(figsize=(15, 10))\n",
    "plt.subplots_adjust(hspace=0.60)"
   ]
  },
  {
   "cell_type": "code",
   "execution_count": 39,
   "id": "3f77b5fe",
   "metadata": {
    "scrolled": false
   },
   "outputs": [
    {
     "data": {
      "image/png": "[encoded data removed]",
      "text/plain": [
       "<Figure size 1080x720 with 30 Axes>"
      ]
     },
     "metadata": {
      "needs_background": "light"
     },
     "output_type": "display_data"
    }
   ],
   "source": [
    "#Review a single year's distributions excluding the two largest counties\n",
    "HCD_2005X=HCD_2[(HCD_2[\"Year\"]==\"2005\") & (~HCD_2[\"County\"].isin([\"BUDAPEST\",\"PEST\"]))]\n",
    "HCD_2005X.hist(figsize=(15, 10))\n",
    "plt.subplots_adjust(hspace=0.60)"
   ]
  },
  {
   "cell_type": "markdown",
   "id": "c6cfe746",
   "metadata": {},
   "source": [
    "## 02.6 Merge Files<a id='02.6_Merge_Files'></a>"
   ]
  },
  {
   "cell_type": "code",
   "execution_count": 40,
   "id": "b7516b74",
   "metadata": {
    "scrolled": true
   },
   "outputs": [],
   "source": [
    "#merge chickenpox data by county with county geographical data\n",
    "#df5= (pd.merge(df2,df4,left_on=\"County\", right_on=\"name_1\", how='inner'))\n",
    "#retrieve year from date information\n",
    "#df5['Yearpart']= pd.to_datetime(df5['Date']).dt.year.apply(str)\n",
    "#insert Year column to be used as a key with county\n",
    "#df5.insert(loc=1, column='Year',value=df5['Yearpart'] )\n",
    "#print(df5.head())\n",
    "#print(df5.info())"
   ]
  },
  {
   "cell_type": "markdown",
   "id": "63dc4f6a",
   "metadata": {},
   "source": [
    "### 02.6.1 Weekly Cases by County Merged with Statistics<a id='02.6.1_Weekly_Cases_by_County_Merged_with_Statistics'></a>"
   ]
  },
  {
   "cell_type": "code",
   "execution_count": 41,
   "id": "604894f1",
   "metadata": {},
   "outputs": [],
   "source": [
    "# Merge Case data by county (weekly data) with Census data by county(annualized)\n",
    "df6= (pd.merge(df2,HCD_2.loc[:,'Year':'Job_seekers'],left_on=['Year','County'], right_on=['Year','County'] ,how='left'))"
   ]
  },
  {
   "cell_type": "markdown",
   "id": "41bbdecf",
   "metadata": {},
   "source": [
    "##### 02.6.1.1 Example<a id='02.6.1.1_Example'></a>"
   ]
  },
  {
   "cell_type": "code",
   "execution_count": 42,
   "id": "530a90d8",
   "metadata": {
    "scrolled": true
   },
   "outputs": [
    {
     "name": "stdout",
     "output_type": "stream",
     "text": [
      "        Date  Year    County  Cases  Area_km   Perm_pop  Live-births  \\\n",
      "0 2005-01-03  2005  BUDAPEST    168    525.1  1690109.0      15911.0   \n",
      "1 2005-01-10  2005  BUDAPEST    157    525.1  1690109.0      15911.0   \n",
      "2 2005-01-17  2005  BUDAPEST     96    525.1  1690109.0      15911.0   \n",
      "3 2005-01-24  2005  BUDAPEST    163    525.1  1690109.0      15911.0   \n",
      "4 2005-01-31  2005  BUDAPEST    122    525.1  1690109.0      15911.0   \n",
      "\n",
      "   Infant_deaths  Children  Internal_immigration  ...  HH_hot_water_net  \\\n",
      "0           72.0  210704.0               53922.0  ...          227742.0   \n",
      "1           72.0  210704.0               53922.0  ...          227742.0   \n",
      "2           72.0  210704.0               53922.0  ...          227742.0   \n",
      "3           72.0  210704.0               53922.0  ...          227742.0   \n",
      "4           72.0  210704.0               53922.0  ...          227742.0   \n",
      "\n",
      "   HH_trash_serv  Num_general_pract  Num_pediatrican  GP_Nurses  \\\n",
      "0       843733.0              979.0            342.0      994.0   \n",
      "1       843733.0              979.0            342.0      994.0   \n",
      "2       843733.0              979.0            342.0      994.0   \n",
      "3       843733.0              979.0            342.0      994.0   \n",
      "4       843733.0              979.0            342.0      994.0   \n",
      "\n",
      "   Hospital_Beds  Gyno_ped_nurses  Pharmacies  Branch_pharmacies  Job_seekers  \n",
      "0        22467.0            702.0       376.0                0.0      20599.0  \n",
      "1        22467.0            702.0       376.0                0.0      20599.0  \n",
      "2        22467.0            702.0       376.0                0.0      20599.0  \n",
      "3        22467.0            702.0       376.0                0.0      20599.0  \n",
      "4        22467.0            702.0       376.0                0.0      20599.0  \n",
      "\n",
      "[5 rows x 29 columns]\n"
     ]
    }
   ],
   "source": [
    "print(df6.head())"
   ]
  },
  {
   "cell_type": "markdown",
   "id": "547c4ae8",
   "metadata": {},
   "source": [
    "##### 02.6.2.1 Structure<a id='02.6.2.1_Structure'></a>"
   ]
  },
  {
   "cell_type": "code",
   "execution_count": 43,
   "id": "ea7b1a00",
   "metadata": {
    "scrolled": false
   },
   "outputs": [
    {
     "name": "stdout",
     "output_type": "stream",
     "text": [
      "<class 'pandas.core.frame.DataFrame'>\n",
      "Int64Index: 10440 entries, 0 to 10439\n",
      "Data columns (total 29 columns):\n",
      " #   Column                Non-Null Count  Dtype         \n",
      "---  ------                --------------  -----         \n",
      " 0   Date                  10440 non-null  datetime64[ns]\n",
      " 1   Year                  10440 non-null  object        \n",
      " 2   County                10440 non-null  object        \n",
      " 3   Cases                 10440 non-null  int64         \n",
      " 4   Area_km               10440 non-null  float64       \n",
      " 5   Perm_pop              10440 non-null  float64       \n",
      " 6   Live-births           10440 non-null  float64       \n",
      " 7   Infant_deaths         10440 non-null  float64       \n",
      " 8   Children              10440 non-null  float64       \n",
      " 9   Internal_immigration  10440 non-null  float64       \n",
      " 10  Internal_emmigration  10440 non-null  float64       \n",
      " 11  Dwellings             10440 non-null  float64       \n",
      " 12  Street_taps           10440 non-null  float64       \n",
      " 13  HH_water_net          10440 non-null  float64       \n",
      " 14  HH_water_net_CY       10440 non-null  float64       \n",
      " 15  HH_sewer_net          10440 non-null  float64       \n",
      " 16  HH_electric_net       10440 non-null  float64       \n",
      " 17  HH_gas_net            10440 non-null  float64       \n",
      " 18  HH_dist_heat_net      10440 non-null  float64       \n",
      " 19  HH_hot_water_net      10440 non-null  float64       \n",
      " 20  HH_trash_serv         10440 non-null  float64       \n",
      " 21  Num_general_pract     10440 non-null  float64       \n",
      " 22  Num_pediatrican       10440 non-null  float64       \n",
      " 23  GP_Nurses             10440 non-null  float64       \n",
      " 24  Hospital_Beds         10440 non-null  float64       \n",
      " 25  Gyno_ped_nurses       10440 non-null  float64       \n",
      " 26  Pharmacies            10440 non-null  float64       \n",
      " 27  Branch_pharmacies     10440 non-null  float64       \n",
      " 28  Job_seekers           10440 non-null  float64       \n",
      "dtypes: datetime64[ns](1), float64(25), int64(1), object(2)\n",
      "memory usage: 2.4+ MB\n",
      "None\n"
     ]
    }
   ],
   "source": [
    "print(df6.info())"
   ]
  },
  {
   "cell_type": "markdown",
   "id": "bcb61497",
   "metadata": {},
   "source": [
    "### 02.6.2 Annual Cases by County Merged with Statistics<a id='02.6.2_Annual_Cases_by_County_Merged_with_Statistics'></a>"
   ]
  },
  {
   "cell_type": "code",
   "execution_count": 44,
   "id": "b8ea8595",
   "metadata": {},
   "outputs": [],
   "source": [
    "#Group df2 dataframe by year and county for sum of cases\n",
    "dfann=df2.loc[:,'Year':'Cases'].groupby(['Year','County']).agg(np.sum)"
   ]
  },
  {
   "cell_type": "code",
   "execution_count": 45,
   "id": "be8fb564",
   "metadata": {},
   "outputs": [
    {
     "name": "stdout",
     "output_type": "stream",
     "text": [
      "               Cases\n",
      "Year County         \n",
      "2005 BACS       2766\n",
      "     BARANYA    2051\n",
      "     BEKES      3544\n",
      "     BORSOD     4027\n",
      "     BUDAPEST   4562\n",
      "...              ...\n",
      "2014 SZABOLCS    944\n",
      "     TOLNA       607\n",
      "     VAS         855\n",
      "     VESZPREM   1534\n",
      "     ZALA        889\n",
      "\n",
      "[200 rows x 1 columns]\n"
     ]
    }
   ],
   "source": [
    "print(dfann)"
   ]
  },
  {
   "cell_type": "code",
   "execution_count": 46,
   "id": "7e6e5f08",
   "metadata": {},
   "outputs": [],
   "source": [
    "# Merge Case data by county (annual data) with Census data by county(annualized)\n",
    "df7= (pd.merge(dfann,HCD_2.loc[:,'Year':'Job_seekers'],left_on=['Year','County'], right_on=['Year','County'] ,how='left'))"
   ]
  },
  {
   "cell_type": "markdown",
   "id": "d7eabe53",
   "metadata": {},
   "source": [
    "##### 02.6.2.1 Example<a id='02.6.2.1_Example'></a>"
   ]
  },
  {
   "cell_type": "code",
   "execution_count": 47,
   "id": "f3bf7d0f",
   "metadata": {
    "scrolled": true
   },
   "outputs": [
    {
     "name": "stdout",
     "output_type": "stream",
     "text": [
      "   Year    County  Cases  Area_km   Perm_pop  Live-births  Infant_deaths  \\\n",
      "0  2005      BACS   2766  8445.15   547459.0       4895.0           47.0   \n",
      "1  2005   BARANYA   2051  4429.47   404184.0       3672.0           18.0   \n",
      "2  2005     BEKES   3544  5629.69   391579.0       3287.0           27.0   \n",
      "3  2005    BORSOD   4027  7247.28   743541.0       7442.0           67.0   \n",
      "4  2005  BUDAPEST   4562   525.10  1690109.0      15911.0           72.0   \n",
      "\n",
      "   Children  Internal_immigration  Internal_emmigration  ...  \\\n",
      "0   84717.0               20899.0               21033.0  ...   \n",
      "1   60107.0               19753.0               19888.0  ...   \n",
      "2   57958.0               14623.0               15706.0  ...   \n",
      "3  127859.0               33204.0               36587.0  ...   \n",
      "4  210704.0               53922.0               58372.0  ...   \n",
      "\n",
      "   HH_hot_water_net  HH_trash_serv  Num_general_pract  Num_pediatrican  \\\n",
      "0           14750.0       182004.0              261.0             85.0   \n",
      "1           37453.0       151081.0              222.0             65.0   \n",
      "2             542.0       149122.0              189.0             56.0   \n",
      "3           48044.0       261923.0              362.0            104.0   \n",
      "4          227742.0       843733.0              979.0            342.0   \n",
      "\n",
      "   GP_Nurses  Hospital_Beds  Gyno_ped_nurses  Pharmacies  Branch_pharmacies  \\\n",
      "0      294.0         3455.0            263.0       128.0               26.0   \n",
      "1      254.0         3439.0            204.0        82.0               31.0   \n",
      "2      219.0         2803.0            190.5        91.0               18.0   \n",
      "3      499.0         5377.0            401.5       132.0               65.0   \n",
      "4      994.0        22467.0            702.0       376.0                0.0   \n",
      "\n",
      "   Job_seekers  \n",
      "0      23623.0  \n",
      "1      22084.0  \n",
      "2      21555.0  \n",
      "3      56918.0  \n",
      "4      20599.0  \n",
      "\n",
      "[5 rows x 28 columns]\n"
     ]
    }
   ],
   "source": [
    "print(df7.head())"
   ]
  },
  {
   "cell_type": "markdown",
   "id": "c0f2cb7c",
   "metadata": {},
   "source": [
    "##### 02.6.2.2 Structure<a id='02.6.2.2_Structure'></a>"
   ]
  },
  {
   "cell_type": "code",
   "execution_count": 48,
   "id": "79aa2539",
   "metadata": {
    "scrolled": true
   },
   "outputs": [
    {
     "name": "stdout",
     "output_type": "stream",
     "text": [
      "<class 'pandas.core.frame.DataFrame'>\n",
      "Int64Index: 200 entries, 0 to 199\n",
      "Data columns (total 28 columns):\n",
      " #   Column                Non-Null Count  Dtype  \n",
      "---  ------                --------------  -----  \n",
      " 0   Year                  200 non-null    object \n",
      " 1   County                200 non-null    object \n",
      " 2   Cases                 200 non-null    int64  \n",
      " 3   Area_km               200 non-null    float64\n",
      " 4   Perm_pop              200 non-null    float64\n",
      " 5   Live-births           200 non-null    float64\n",
      " 6   Infant_deaths         200 non-null    float64\n",
      " 7   Children              200 non-null    float64\n",
      " 8   Internal_immigration  200 non-null    float64\n",
      " 9   Internal_emmigration  200 non-null    float64\n",
      " 10  Dwellings             200 non-null    float64\n",
      " 11  Street_taps           200 non-null    float64\n",
      " 12  HH_water_net          200 non-null    float64\n",
      " 13  HH_water_net_CY       200 non-null    float64\n",
      " 14  HH_sewer_net          200 non-null    float64\n",
      " 15  HH_electric_net       200 non-null    float64\n",
      " 16  HH_gas_net            200 non-null    float64\n",
      " 17  HH_dist_heat_net      200 non-null    float64\n",
      " 18  HH_hot_water_net      200 non-null    float64\n",
      " 19  HH_trash_serv         200 non-null    float64\n",
      " 20  Num_general_pract     200 non-null    float64\n",
      " 21  Num_pediatrican       200 non-null    float64\n",
      " 22  GP_Nurses             200 non-null    float64\n",
      " 23  Hospital_Beds         200 non-null    float64\n",
      " 24  Gyno_ped_nurses       200 non-null    float64\n",
      " 25  Pharmacies            200 non-null    float64\n",
      " 26  Branch_pharmacies     200 non-null    float64\n",
      " 27  Job_seekers           200 non-null    float64\n",
      "dtypes: float64(25), int64(1), object(2)\n",
      "memory usage: 45.3+ KB\n",
      "None\n"
     ]
    }
   ],
   "source": [
    "print(df7.info())"
   ]
  },
  {
   "cell_type": "markdown",
   "id": "f800874a",
   "metadata": {},
   "source": [
    "### 02.6.3 Adjacent Counties Merged with Data<a id='02.6.3_Adjacent_Counties_Counties_Merged_with_Data'></a>"
   ]
  },
  {
   "cell_type": "code",
   "execution_count": 49,
   "id": "e28160c2",
   "metadata": {},
   "outputs": [],
   "source": [
    "#merge weekly chickenpox data by county with county geographical data\n",
    "df6_final= (pd.merge(df6,df4,left_on=\"County\", right_on=\"name_1\", how='inner'))"
   ]
  },
  {
   "cell_type": "code",
   "execution_count": 50,
   "id": "4dd2ade5",
   "metadata": {},
   "outputs": [],
   "source": [
    "#merge annual chickenpox data by county with county geographical data\n",
    "df7_final= (pd.merge(df7,df4,left_on=\"County\", right_on=\"name_1\", how='inner'))"
   ]
  },
  {
   "cell_type": "markdown",
   "id": "509f624a",
   "metadata": {},
   "source": [
    "##### 02.6.3.1 Example<a id='02.6.3.1_Example'></a>"
   ]
  },
  {
   "cell_type": "code",
   "execution_count": 51,
   "id": "f07890fe",
   "metadata": {},
   "outputs": [
    {
     "data": {
      "text/html": [
       "<div>\n",
       "<style scoped>\n",
       "    .dataframe tbody tr th:only-of-type {\n",
       "        vertical-align: middle;\n",
       "    }\n",
       "\n",
       "    .dataframe tbody tr th {\n",
       "        vertical-align: top;\n",
       "    }\n",
       "\n",
       "    .dataframe thead th {\n",
       "        text-align: right;\n",
       "    }\n",
       "</style>\n",
       "<table border=\"1\" class=\"dataframe\">\n",
       "  <thead>\n",
       "    <tr style=\"text-align: right;\">\n",
       "      <th></th>\n",
       "      <th>Date</th>\n",
       "      <th>Year</th>\n",
       "      <th>County</th>\n",
       "      <th>Cases</th>\n",
       "      <th>Area_km</th>\n",
       "      <th>Perm_pop</th>\n",
       "      <th>Live-births</th>\n",
       "      <th>Infant_deaths</th>\n",
       "      <th>Children</th>\n",
       "      <th>Internal_immigration</th>\n",
       "      <th>...</th>\n",
       "      <th>JASZ_adjacent</th>\n",
       "      <th>KOMAROM_adjacent</th>\n",
       "      <th>NOGRAD_adjacent</th>\n",
       "      <th>PEST_adjacent</th>\n",
       "      <th>SOMOGY_adjacent</th>\n",
       "      <th>SZABOLCS_adjacent</th>\n",
       "      <th>TOLNA_adjacent</th>\n",
       "      <th>VAS_adjacent</th>\n",
       "      <th>VESZPREM_adjacent</th>\n",
       "      <th>ZALA_adjacent</th>\n",
       "    </tr>\n",
       "  </thead>\n",
       "  <tbody>\n",
       "    <tr>\n",
       "      <th>0</th>\n",
       "      <td>2005-01-03</td>\n",
       "      <td>2005</td>\n",
       "      <td>BUDAPEST</td>\n",
       "      <td>168</td>\n",
       "      <td>525.1</td>\n",
       "      <td>1690109.0</td>\n",
       "      <td>15911.0</td>\n",
       "      <td>72.0</td>\n",
       "      <td>210704.0</td>\n",
       "      <td>53922.0</td>\n",
       "      <td>...</td>\n",
       "      <td>0</td>\n",
       "      <td>0</td>\n",
       "      <td>0</td>\n",
       "      <td>1</td>\n",
       "      <td>0</td>\n",
       "      <td>0</td>\n",
       "      <td>0</td>\n",
       "      <td>0</td>\n",
       "      <td>0</td>\n",
       "      <td>0</td>\n",
       "    </tr>\n",
       "    <tr>\n",
       "      <th>1</th>\n",
       "      <td>2005-01-10</td>\n",
       "      <td>2005</td>\n",
       "      <td>BUDAPEST</td>\n",
       "      <td>157</td>\n",
       "      <td>525.1</td>\n",
       "      <td>1690109.0</td>\n",
       "      <td>15911.0</td>\n",
       "      <td>72.0</td>\n",
       "      <td>210704.0</td>\n",
       "      <td>53922.0</td>\n",
       "      <td>...</td>\n",
       "      <td>0</td>\n",
       "      <td>0</td>\n",
       "      <td>0</td>\n",
       "      <td>1</td>\n",
       "      <td>0</td>\n",
       "      <td>0</td>\n",
       "      <td>0</td>\n",
       "      <td>0</td>\n",
       "      <td>0</td>\n",
       "      <td>0</td>\n",
       "    </tr>\n",
       "    <tr>\n",
       "      <th>2</th>\n",
       "      <td>2005-01-17</td>\n",
       "      <td>2005</td>\n",
       "      <td>BUDAPEST</td>\n",
       "      <td>96</td>\n",
       "      <td>525.1</td>\n",
       "      <td>1690109.0</td>\n",
       "      <td>15911.0</td>\n",
       "      <td>72.0</td>\n",
       "      <td>210704.0</td>\n",
       "      <td>53922.0</td>\n",
       "      <td>...</td>\n",
       "      <td>0</td>\n",
       "      <td>0</td>\n",
       "      <td>0</td>\n",
       "      <td>1</td>\n",
       "      <td>0</td>\n",
       "      <td>0</td>\n",
       "      <td>0</td>\n",
       "      <td>0</td>\n",
       "      <td>0</td>\n",
       "      <td>0</td>\n",
       "    </tr>\n",
       "    <tr>\n",
       "      <th>3</th>\n",
       "      <td>2005-01-24</td>\n",
       "      <td>2005</td>\n",
       "      <td>BUDAPEST</td>\n",
       "      <td>163</td>\n",
       "      <td>525.1</td>\n",
       "      <td>1690109.0</td>\n",
       "      <td>15911.0</td>\n",
       "      <td>72.0</td>\n",
       "      <td>210704.0</td>\n",
       "      <td>53922.0</td>\n",
       "      <td>...</td>\n",
       "      <td>0</td>\n",
       "      <td>0</td>\n",
       "      <td>0</td>\n",
       "      <td>1</td>\n",
       "      <td>0</td>\n",
       "      <td>0</td>\n",
       "      <td>0</td>\n",
       "      <td>0</td>\n",
       "      <td>0</td>\n",
       "      <td>0</td>\n",
       "    </tr>\n",
       "    <tr>\n",
       "      <th>4</th>\n",
       "      <td>2005-01-31</td>\n",
       "      <td>2005</td>\n",
       "      <td>BUDAPEST</td>\n",
       "      <td>122</td>\n",
       "      <td>525.1</td>\n",
       "      <td>1690109.0</td>\n",
       "      <td>15911.0</td>\n",
       "      <td>72.0</td>\n",
       "      <td>210704.0</td>\n",
       "      <td>53922.0</td>\n",
       "      <td>...</td>\n",
       "      <td>0</td>\n",
       "      <td>0</td>\n",
       "      <td>0</td>\n",
       "      <td>1</td>\n",
       "      <td>0</td>\n",
       "      <td>0</td>\n",
       "      <td>0</td>\n",
       "      <td>0</td>\n",
       "      <td>0</td>\n",
       "      <td>0</td>\n",
       "    </tr>\n",
       "  </tbody>\n",
       "</table>\n",
       "<p>5 rows × 49 columns</p>\n",
       "</div>"
      ],
      "text/plain": [
       "        Date  Year    County  Cases  Area_km   Perm_pop  Live-births  \\\n",
       "0 2005-01-03  2005  BUDAPEST    168    525.1  1690109.0      15911.0   \n",
       "1 2005-01-10  2005  BUDAPEST    157    525.1  1690109.0      15911.0   \n",
       "2 2005-01-17  2005  BUDAPEST     96    525.1  1690109.0      15911.0   \n",
       "3 2005-01-24  2005  BUDAPEST    163    525.1  1690109.0      15911.0   \n",
       "4 2005-01-31  2005  BUDAPEST    122    525.1  1690109.0      15911.0   \n",
       "\n",
       "   Infant_deaths  Children  Internal_immigration  ...  JASZ_adjacent  \\\n",
       "0           72.0  210704.0               53922.0  ...              0   \n",
       "1           72.0  210704.0               53922.0  ...              0   \n",
       "2           72.0  210704.0               53922.0  ...              0   \n",
       "3           72.0  210704.0               53922.0  ...              0   \n",
       "4           72.0  210704.0               53922.0  ...              0   \n",
       "\n",
       "   KOMAROM_adjacent  NOGRAD_adjacent  PEST_adjacent  SOMOGY_adjacent  \\\n",
       "0                 0                0              1                0   \n",
       "1                 0                0              1                0   \n",
       "2                 0                0              1                0   \n",
       "3                 0                0              1                0   \n",
       "4                 0                0              1                0   \n",
       "\n",
       "   SZABOLCS_adjacent  TOLNA_adjacent  VAS_adjacent  VESZPREM_adjacent  \\\n",
       "0                  0               0             0                  0   \n",
       "1                  0               0             0                  0   \n",
       "2                  0               0             0                  0   \n",
       "3                  0               0             0                  0   \n",
       "4                  0               0             0                  0   \n",
       "\n",
       "   ZALA_adjacent  \n",
       "0              0  \n",
       "1              0  \n",
       "2              0  \n",
       "3              0  \n",
       "4              0  \n",
       "\n",
       "[5 rows x 49 columns]"
      ]
     },
     "execution_count": 51,
     "metadata": {},
     "output_type": "execute_result"
    }
   ],
   "source": [
    "#Example for Weekly data with adjacent county data added\n",
    "df6_final.head()"
   ]
  },
  {
   "cell_type": "code",
   "execution_count": 52,
   "id": "ad3e8cf5",
   "metadata": {},
   "outputs": [
    {
     "data": {
      "text/html": [
       "<div>\n",
       "<style scoped>\n",
       "    .dataframe tbody tr th:only-of-type {\n",
       "        vertical-align: middle;\n",
       "    }\n",
       "\n",
       "    .dataframe tbody tr th {\n",
       "        vertical-align: top;\n",
       "    }\n",
       "\n",
       "    .dataframe thead th {\n",
       "        text-align: right;\n",
       "    }\n",
       "</style>\n",
       "<table border=\"1\" class=\"dataframe\">\n",
       "  <thead>\n",
       "    <tr style=\"text-align: right;\">\n",
       "      <th></th>\n",
       "      <th>Year</th>\n",
       "      <th>County</th>\n",
       "      <th>Cases</th>\n",
       "      <th>Area_km</th>\n",
       "      <th>Perm_pop</th>\n",
       "      <th>Live-births</th>\n",
       "      <th>Infant_deaths</th>\n",
       "      <th>Children</th>\n",
       "      <th>Internal_immigration</th>\n",
       "      <th>Internal_emmigration</th>\n",
       "      <th>...</th>\n",
       "      <th>JASZ_adjacent</th>\n",
       "      <th>KOMAROM_adjacent</th>\n",
       "      <th>NOGRAD_adjacent</th>\n",
       "      <th>PEST_adjacent</th>\n",
       "      <th>SOMOGY_adjacent</th>\n",
       "      <th>SZABOLCS_adjacent</th>\n",
       "      <th>TOLNA_adjacent</th>\n",
       "      <th>VAS_adjacent</th>\n",
       "      <th>VESZPREM_adjacent</th>\n",
       "      <th>ZALA_adjacent</th>\n",
       "    </tr>\n",
       "  </thead>\n",
       "  <tbody>\n",
       "    <tr>\n",
       "      <th>0</th>\n",
       "      <td>2005</td>\n",
       "      <td>BACS</td>\n",
       "      <td>2766</td>\n",
       "      <td>8445.15</td>\n",
       "      <td>547459.0</td>\n",
       "      <td>4895.0</td>\n",
       "      <td>47.0</td>\n",
       "      <td>84717.0</td>\n",
       "      <td>20899.0</td>\n",
       "      <td>21033.0</td>\n",
       "      <td>...</td>\n",
       "      <td>1</td>\n",
       "      <td>0</td>\n",
       "      <td>0</td>\n",
       "      <td>1</td>\n",
       "      <td>0</td>\n",
       "      <td>0</td>\n",
       "      <td>1</td>\n",
       "      <td>0</td>\n",
       "      <td>0</td>\n",
       "      <td>0</td>\n",
       "    </tr>\n",
       "    <tr>\n",
       "      <th>1</th>\n",
       "      <td>2006</td>\n",
       "      <td>BACS</td>\n",
       "      <td>1969</td>\n",
       "      <td>8445.33</td>\n",
       "      <td>545618.0</td>\n",
       "      <td>5141.0</td>\n",
       "      <td>27.0</td>\n",
       "      <td>82800.0</td>\n",
       "      <td>23404.0</td>\n",
       "      <td>24004.0</td>\n",
       "      <td>...</td>\n",
       "      <td>1</td>\n",
       "      <td>0</td>\n",
       "      <td>0</td>\n",
       "      <td>1</td>\n",
       "      <td>0</td>\n",
       "      <td>0</td>\n",
       "      <td>1</td>\n",
       "      <td>0</td>\n",
       "      <td>0</td>\n",
       "      <td>0</td>\n",
       "    </tr>\n",
       "    <tr>\n",
       "      <th>2</th>\n",
       "      <td>2007</td>\n",
       "      <td>BACS</td>\n",
       "      <td>2197</td>\n",
       "      <td>8444.72</td>\n",
       "      <td>544429.0</td>\n",
       "      <td>4951.0</td>\n",
       "      <td>28.0</td>\n",
       "      <td>81009.0</td>\n",
       "      <td>23615.0</td>\n",
       "      <td>24959.0</td>\n",
       "      <td>...</td>\n",
       "      <td>1</td>\n",
       "      <td>0</td>\n",
       "      <td>0</td>\n",
       "      <td>1</td>\n",
       "      <td>0</td>\n",
       "      <td>0</td>\n",
       "      <td>1</td>\n",
       "      <td>0</td>\n",
       "      <td>0</td>\n",
       "      <td>0</td>\n",
       "    </tr>\n",
       "    <tr>\n",
       "      <th>3</th>\n",
       "      <td>2008</td>\n",
       "      <td>BACS</td>\n",
       "      <td>1711</td>\n",
       "      <td>8444.83</td>\n",
       "      <td>542876.0</td>\n",
       "      <td>5041.0</td>\n",
       "      <td>39.0</td>\n",
       "      <td>79777.0</td>\n",
       "      <td>18218.0</td>\n",
       "      <td>19622.0</td>\n",
       "      <td>...</td>\n",
       "      <td>1</td>\n",
       "      <td>0</td>\n",
       "      <td>0</td>\n",
       "      <td>1</td>\n",
       "      <td>0</td>\n",
       "      <td>0</td>\n",
       "      <td>1</td>\n",
       "      <td>0</td>\n",
       "      <td>0</td>\n",
       "      <td>0</td>\n",
       "    </tr>\n",
       "    <tr>\n",
       "      <th>4</th>\n",
       "      <td>2009</td>\n",
       "      <td>BACS</td>\n",
       "      <td>1607</td>\n",
       "      <td>8444.83</td>\n",
       "      <td>541005.0</td>\n",
       "      <td>4905.0</td>\n",
       "      <td>36.0</td>\n",
       "      <td>78289.0</td>\n",
       "      <td>17367.0</td>\n",
       "      <td>18773.0</td>\n",
       "      <td>...</td>\n",
       "      <td>1</td>\n",
       "      <td>0</td>\n",
       "      <td>0</td>\n",
       "      <td>1</td>\n",
       "      <td>0</td>\n",
       "      <td>0</td>\n",
       "      <td>1</td>\n",
       "      <td>0</td>\n",
       "      <td>0</td>\n",
       "      <td>0</td>\n",
       "    </tr>\n",
       "  </tbody>\n",
       "</table>\n",
       "<p>5 rows × 48 columns</p>\n",
       "</div>"
      ],
      "text/plain": [
       "   Year County  Cases  Area_km  Perm_pop  Live-births  Infant_deaths  \\\n",
       "0  2005   BACS   2766  8445.15  547459.0       4895.0           47.0   \n",
       "1  2006   BACS   1969  8445.33  545618.0       5141.0           27.0   \n",
       "2  2007   BACS   2197  8444.72  544429.0       4951.0           28.0   \n",
       "3  2008   BACS   1711  8444.83  542876.0       5041.0           39.0   \n",
       "4  2009   BACS   1607  8444.83  541005.0       4905.0           36.0   \n",
       "\n",
       "   Children  Internal_immigration  Internal_emmigration  ...  JASZ_adjacent  \\\n",
       "0   84717.0               20899.0               21033.0  ...              1   \n",
       "1   82800.0               23404.0               24004.0  ...              1   \n",
       "2   81009.0               23615.0               24959.0  ...              1   \n",
       "3   79777.0               18218.0               19622.0  ...              1   \n",
       "4   78289.0               17367.0               18773.0  ...              1   \n",
       "\n",
       "   KOMAROM_adjacent  NOGRAD_adjacent  PEST_adjacent  SOMOGY_adjacent  \\\n",
       "0                 0                0              1                0   \n",
       "1                 0                0              1                0   \n",
       "2                 0                0              1                0   \n",
       "3                 0                0              1                0   \n",
       "4                 0                0              1                0   \n",
       "\n",
       "   SZABOLCS_adjacent  TOLNA_adjacent  VAS_adjacent  VESZPREM_adjacent  \\\n",
       "0                  0               1             0                  0   \n",
       "1                  0               1             0                  0   \n",
       "2                  0               1             0                  0   \n",
       "3                  0               1             0                  0   \n",
       "4                  0               1             0                  0   \n",
       "\n",
       "   ZALA_adjacent  \n",
       "0              0  \n",
       "1              0  \n",
       "2              0  \n",
       "3              0  \n",
       "4              0  \n",
       "\n",
       "[5 rows x 48 columns]"
      ]
     },
     "execution_count": 52,
     "metadata": {},
     "output_type": "execute_result"
    }
   ],
   "source": [
    "#Example for annual data with adjacent county data added\n",
    "df7_final.head()"
   ]
  },
  {
   "cell_type": "markdown",
   "id": "01be4104",
   "metadata": {},
   "source": [
    "##### 02.6.3.2 Structure<a id='02.6.3.2_Structure'></a>"
   ]
  },
  {
   "cell_type": "code",
   "execution_count": 53,
   "id": "eefb3bae",
   "metadata": {
    "scrolled": true
   },
   "outputs": [
    {
     "name": "stdout",
     "output_type": "stream",
     "text": [
      "<class 'pandas.core.frame.DataFrame'>\n",
      "Int64Index: 10440 entries, 0 to 10439\n",
      "Data columns (total 49 columns):\n",
      " #   Column                Non-Null Count  Dtype         \n",
      "---  ------                --------------  -----         \n",
      " 0   Date                  10440 non-null  datetime64[ns]\n",
      " 1   Year                  10440 non-null  object        \n",
      " 2   County                10440 non-null  object        \n",
      " 3   Cases                 10440 non-null  int64         \n",
      " 4   Area_km               10440 non-null  float64       \n",
      " 5   Perm_pop              10440 non-null  float64       \n",
      " 6   Live-births           10440 non-null  float64       \n",
      " 7   Infant_deaths         10440 non-null  float64       \n",
      " 8   Children              10440 non-null  float64       \n",
      " 9   Internal_immigration  10440 non-null  float64       \n",
      " 10  Internal_emmigration  10440 non-null  float64       \n",
      " 11  Dwellings             10440 non-null  float64       \n",
      " 12  Street_taps           10440 non-null  float64       \n",
      " 13  HH_water_net          10440 non-null  float64       \n",
      " 14  HH_water_net_CY       10440 non-null  float64       \n",
      " 15  HH_sewer_net          10440 non-null  float64       \n",
      " 16  HH_electric_net       10440 non-null  float64       \n",
      " 17  HH_gas_net            10440 non-null  float64       \n",
      " 18  HH_dist_heat_net      10440 non-null  float64       \n",
      " 19  HH_hot_water_net      10440 non-null  float64       \n",
      " 20  HH_trash_serv         10440 non-null  float64       \n",
      " 21  Num_general_pract     10440 non-null  float64       \n",
      " 22  Num_pediatrican       10440 non-null  float64       \n",
      " 23  GP_Nurses             10440 non-null  float64       \n",
      " 24  Hospital_Beds         10440 non-null  float64       \n",
      " 25  Gyno_ped_nurses       10440 non-null  float64       \n",
      " 26  Pharmacies            10440 non-null  float64       \n",
      " 27  Branch_pharmacies     10440 non-null  float64       \n",
      " 28  Job_seekers           10440 non-null  float64       \n",
      " 29  BACS_adjacent         10440 non-null  object        \n",
      " 30  BARANYA_adjacent      10440 non-null  object        \n",
      " 31  BEKES_adjacent        10440 non-null  object        \n",
      " 32  BORSOD_adjacent       10440 non-null  object        \n",
      " 33  BUDAPEST_adjacent     10440 non-null  object        \n",
      " 34  CSONGRAD_adjacent     10440 non-null  object        \n",
      " 35  FEJER_adjacent        10440 non-null  object        \n",
      " 36  GYOR_adjacent         10440 non-null  object        \n",
      " 37  HAJDU_adjacent        10440 non-null  object        \n",
      " 38  HEVES_adjacent        10440 non-null  object        \n",
      " 39  JASZ_adjacent         10440 non-null  object        \n",
      " 40  KOMAROM_adjacent      10440 non-null  object        \n",
      " 41  NOGRAD_adjacent       10440 non-null  object        \n",
      " 42  PEST_adjacent         10440 non-null  object        \n",
      " 43  SOMOGY_adjacent       10440 non-null  object        \n",
      " 44  SZABOLCS_adjacent     10440 non-null  object        \n",
      " 45  TOLNA_adjacent        10440 non-null  object        \n",
      " 46  VAS_adjacent          10440 non-null  object        \n",
      " 47  VESZPREM_adjacent     10440 non-null  object        \n",
      " 48  ZALA_adjacent         10440 non-null  object        \n",
      "dtypes: datetime64[ns](1), float64(25), int64(1), object(22)\n",
      "memory usage: 4.0+ MB\n"
     ]
    }
   ],
   "source": [
    "#structure for Weekly data with adjacent county data added\n",
    "df6_final.info()"
   ]
  },
  {
   "cell_type": "code",
   "execution_count": 54,
   "id": "ab623d18",
   "metadata": {
    "scrolled": true
   },
   "outputs": [
    {
     "name": "stdout",
     "output_type": "stream",
     "text": [
      "<class 'pandas.core.frame.DataFrame'>\n",
      "Int64Index: 200 entries, 0 to 199\n",
      "Data columns (total 48 columns):\n",
      " #   Column                Non-Null Count  Dtype  \n",
      "---  ------                --------------  -----  \n",
      " 0   Year                  200 non-null    object \n",
      " 1   County                200 non-null    object \n",
      " 2   Cases                 200 non-null    int64  \n",
      " 3   Area_km               200 non-null    float64\n",
      " 4   Perm_pop              200 non-null    float64\n",
      " 5   Live-births           200 non-null    float64\n",
      " 6   Infant_deaths         200 non-null    float64\n",
      " 7   Children              200 non-null    float64\n",
      " 8   Internal_immigration  200 non-null    float64\n",
      " 9   Internal_emmigration  200 non-null    float64\n",
      " 10  Dwellings             200 non-null    float64\n",
      " 11  Street_taps           200 non-null    float64\n",
      " 12  HH_water_net          200 non-null    float64\n",
      " 13  HH_water_net_CY       200 non-null    float64\n",
      " 14  HH_sewer_net          200 non-null    float64\n",
      " 15  HH_electric_net       200 non-null    float64\n",
      " 16  HH_gas_net            200 non-null    float64\n",
      " 17  HH_dist_heat_net      200 non-null    float64\n",
      " 18  HH_hot_water_net      200 non-null    float64\n",
      " 19  HH_trash_serv         200 non-null    float64\n",
      " 20  Num_general_pract     200 non-null    float64\n",
      " 21  Num_pediatrican       200 non-null    float64\n",
      " 22  GP_Nurses             200 non-null    float64\n",
      " 23  Hospital_Beds         200 non-null    float64\n",
      " 24  Gyno_ped_nurses       200 non-null    float64\n",
      " 25  Pharmacies            200 non-null    float64\n",
      " 26  Branch_pharmacies     200 non-null    float64\n",
      " 27  Job_seekers           200 non-null    float64\n",
      " 28  BACS_adjacent         200 non-null    object \n",
      " 29  BARANYA_adjacent      200 non-null    object \n",
      " 30  BEKES_adjacent        200 non-null    object \n",
      " 31  BORSOD_adjacent       200 non-null    object \n",
      " 32  BUDAPEST_adjacent     200 non-null    object \n",
      " 33  CSONGRAD_adjacent     200 non-null    object \n",
      " 34  FEJER_adjacent        200 non-null    object \n",
      " 35  GYOR_adjacent         200 non-null    object \n",
      " 36  HAJDU_adjacent        200 non-null    object \n",
      " 37  HEVES_adjacent        200 non-null    object \n",
      " 38  JASZ_adjacent         200 non-null    object \n",
      " 39  KOMAROM_adjacent      200 non-null    object \n",
      " 40  NOGRAD_adjacent       200 non-null    object \n",
      " 41  PEST_adjacent         200 non-null    object \n",
      " 42  SOMOGY_adjacent       200 non-null    object \n",
      " 43  SZABOLCS_adjacent     200 non-null    object \n",
      " 44  TOLNA_adjacent        200 non-null    object \n",
      " 45  VAS_adjacent          200 non-null    object \n",
      " 46  VESZPREM_adjacent     200 non-null    object \n",
      " 47  ZALA_adjacent         200 non-null    object \n",
      "dtypes: float64(25), int64(1), object(22)\n",
      "memory usage: 76.6+ KB\n"
     ]
    }
   ],
   "source": [
    "#Structure for annual data with adjacent county data added\n",
    "df7_final.info()"
   ]
  },
  {
   "cell_type": "markdown",
   "id": "c437ca47",
   "metadata": {},
   "source": [
    "## 02.7 Save Files<a id='02.7_Save_Files'></a>"
   ]
  },
  {
   "cell_type": "code",
   "execution_count": 55,
   "id": "9383f1c5",
   "metadata": {},
   "outputs": [],
   "source": [
    "# save weekly data to csv file in data folder\n",
    "\n",
    "File_Location='data/interim/weekly_chichenpox_data.csv'\n",
    "full_path = Project_Local+File_Location\n",
    "df6_final.to_csv(full_path)"
   ]
  },
  {
   "cell_type": "code",
   "execution_count": 56,
   "id": "68003bdd",
   "metadata": {},
   "outputs": [],
   "source": [
    "# save annualized data to csv file in data folder\n",
    "File_Location = 'data/interim/annual_chichenpox_data.csv'\n",
    "full_path= Project_Local+File_Location\n",
    "df7_final.to_csv(full_path)"
   ]
  },
  {
   "cell_type": "markdown",
   "id": "178fb59f",
   "metadata": {},
   "source": [
    "## 02.8 Summary<a id='02.8_Summary'></a>"
   ]
  },
  {
   "cell_type": "markdown",
   "id": "3d00fd86",
   "metadata": {},
   "source": [
    "After reviewing the data frequency between the chickenpox file (weekly) and the statistics file(annual), the chickenpox information has been merged with the chickenpox information presented in both a weekly file and an annualized file.  Will utilize tools in the EDA process to determine if one file is superior to the other.\n",
    "\n",
    "Also noticed that two of the counties (Budapest and Pest) are outliers compared to the other counties interms of population and other features.\n",
    "\n",
    "Will use the number of cases as the target, and the remaining as features."
   ]
  }
 ],
 "metadata": {
  "kernelspec": {
   "display_name": "Python 3",
   "language": "python",
   "name": "python3"
  },
  "language_info": {
   "codemirror_mode": {
    "name": "ipython",
    "version": 3
   },
   "file_extension": ".py",
   "mimetype": "text/x-python",
   "name": "python",
   "nbconvert_exporter": "python",
   "pygments_lexer": "ipython3",
   "version": "3.8.8"
  }
 },
 "nbformat": 4,
 "nbformat_minor": 5
}
